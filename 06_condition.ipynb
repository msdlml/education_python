{
 "cells": [
  {
   "cell_type": "markdown",
   "id": "d20d005d",
   "metadata": {},
   "source": [
    "## condition 조건문"
   ]
  },
  {
   "cell_type": "markdown",
   "id": "52658190",
   "metadata": {},
   "source": [
    "## 1. if else elif\n",
    "- 특정 조건에 따라서 코드를 실행하고자 할 때 사용\n",
    "- if else elif"
   ]
  },
  {
   "cell_type": "markdown",
   "id": "1fd28a99",
   "metadata": {},
   "source": [
    "```python\n",
    "if condition: # True 이면 코드 실행\n",
    "    code\n",
    "```"
   ]
  },
  {
   "cell_type": "code",
   "execution_count": 3,
   "id": "ff4984d7",
   "metadata": {},
   "outputs": [
    {
     "name": "stdout",
     "output_type": "stream",
     "text": [
      "if문 안에 있는 코드\n",
      "if문 밖에 있는 코드\n"
     ]
    }
   ],
   "source": [
    "# 조건 부분: bool 데이터 타입 이외 데이터 타입이 오면, 자동으로 bool 형변환 되어 판단\n",
    "if True:\n",
    "    print('if문 안에 있는 코드')\n",
    "print('if문 밖에 있는 코드')"
   ]
  },
  {
   "cell_type": "markdown",
   "id": "de9c1dfa",
   "metadata": {},
   "source": [
    "- int: 0을 제외한 나머지는 True\n",
    "- float : 0.0을 제외한 나머지는 True\n",
    "- str: \"\", '' 을 제외한 나머지는 True\n",
    "- list, tuple, dict: [], (), {} 을 제외한 나머지는 True"
   ]
  },
  {
   "cell_type": "markdown",
   "id": "7fb3b1b4",
   "metadata": {},
   "source": [
    "## quiz"
   ]
  },
  {
   "cell_type": "code",
   "execution_count": 7,
   "id": "65d05657",
   "metadata": {},
   "outputs": [
    {
     "name": "stdout",
     "output_type": "stream",
     "text": [
      "인출 할 금액을 입력하세요: 11000\n",
      "잔액이 부족합니다.\n",
      "통잔잔액: 10000 원\n"
     ]
    }
   ],
   "source": [
    "bank = 10000\n",
    "money = int(input(\"인출 할 금액을 입력하세요: \"))\n",
    "\n",
    "if(bank - money >= 0):\n",
    "    print(money, \"원을 인출합니다\")\n",
    "    print(\"잔액은\",bank - money,\"원 입니다\")\n",
    "else:\n",
    "    print(\"잔액이 부족합니다.\")\n",
    "    print(\"통잔잔액:\",bank,\"원\")"
   ]
  },
  {
   "cell_type": "markdown",
   "id": "ee88a637",
   "metadata": {},
   "source": [
    "## 2. 삼항연산자\n",
    "- 간단한 조건일 경우, if else 구문을 한 줄의 코드로 표현할 수 있는 문법"
   ]
  },
  {
   "cell_type": "code",
   "execution_count": null,
   "id": "988dbf62",
   "metadata": {},
   "outputs": [],
   "source": [
    "money = 10000\n",
    "\n",
    "print(\"t\") if money >= 10000 else print(\"f\")"
   ]
  },
  {
   "cell_type": "markdown",
   "id": "50701814",
   "metadata": {},
   "source": [
    "## Quiz"
   ]
  },
  {
   "cell_type": "code",
   "execution_count": 25,
   "id": "5e7f5298",
   "metadata": {
    "scrolled": true
   },
   "outputs": [
    {
     "name": "stdout",
     "output_type": "stream",
     "text": [
      "1 X 8 = ?\n",
      "정답을 입력하세요 : 7\n",
      "오답\n"
     ]
    }
   ],
   "source": [
    "import random\n",
    "\n",
    "a = random.randint(1,10)\n",
    "b = random.randint(1,10)\n",
    "\n",
    "print(a,\"X\",b,\"= ?\")\n",
    "\n",
    "sol = int(input(\"정답을 입력하세요 : \"))\n",
    "if(sol == a * b):\n",
    "    print(\"정답\")\n",
    "else:\n",
    "    print(\"오답\")"
   ]
  },
  {
   "cell_type": "code",
   "execution_count": 1,
   "id": "679260f5",
   "metadata": {},
   "outputs": [
    {
     "name": "stdout",
     "output_type": "stream",
     "text": [
      "7 - 7 = ?\n",
      "정답을 입력하세요 : 0\n",
      "정답\n"
     ]
    }
   ],
   "source": [
    "import random\n",
    "\n",
    "cal = [\"+\", \"-\", \"/\", \"*\"]\n",
    "\n",
    "a = random.randint(1,10)\n",
    "b = random.randint(1,10)\n",
    "c = random.choice(cal)\n",
    "\n",
    "print(a,c,b,\"= ?\")\n",
    "\n",
    "sol = int(input(\"정답을 입력하세요 : \"))\n",
    "\n",
    "if(c == \"+\"):\n",
    "    if(sol == a + b):\n",
    "        print(\"정답\")\n",
    "    else:\n",
    "        print(\"오답\")\n",
    "elif(c == \"-\"):\n",
    "    if(sol == a - b):\n",
    "        print(\"정답\")\n",
    "    else:\n",
    "        print(\"오답\")\n",
    "elif(c == \"*\"):\n",
    "    if(sol == a * b):\n",
    "        print(\"정답\")\n",
    "    else:\n",
    "        print(\"오답\")\n",
    "else:\n",
    "    if(sol == a / b):\n",
    "        print(\"정답\")\n",
    "    else:\n",
    "        print(\"오답\")"
   ]
  },
  {
   "cell_type": "code",
   "execution_count": null,
   "id": "6b71c034",
   "metadata": {},
   "outputs": [],
   "source": []
  }
 ],
 "metadata": {
  "kernelspec": {
   "display_name": "Python 3 (ipykernel)",
   "language": "python",
   "name": "python3"
  },
  "language_info": {
   "codemirror_mode": {
    "name": "ipython",
    "version": 3
   },
   "file_extension": ".py",
   "mimetype": "text/x-python",
   "name": "python",
   "nbconvert_exporter": "python",
   "pygments_lexer": "ipython3",
   "version": "3.11.4"
  }
 },
 "nbformat": 4,
 "nbformat_minor": 5
}
