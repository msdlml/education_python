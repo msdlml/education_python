{
 "cells": [
  {
   "cell_type": "markdown",
   "metadata": {},
   "source": [
    "## 예외처리"
   ]
  },
  {
   "cell_type": "markdown",
   "metadata": {},
   "source": [
    "## 1. 예외처리 개념 \n",
    "- 예상하지 못한 상황에 대비하여 코드 흐름을 제어\n",
    "- 주로 파일 읽기/쓰기, 네트워크 통신, 사용자 입력 등 예측하기 어려운 상황에 사용\n",
    "- TypeError, NameError, SystemError, AttributeError"
   ]
  },
  {
   "cell_type": "markdown",
   "metadata": {},
   "source": [
    "### 2.예외처리 문법"
   ]
  },
  {
   "cell_type": "code",
   "execution_count": 2,
   "metadata": {},
   "outputs": [],
   "source": [
    "# 기본 문법\n",
    "try:\n",
    "    pass # 실행할 코드\n",
    "except:\n",
    "    pass # 예외가 발생했을 때 실행할 코드"
   ]
  },
  {
   "cell_type": "code",
   "execution_count": 1,
   "metadata": {},
   "outputs": [
    {
     "name": "stdout",
     "output_type": "stream",
     "text": [
      "exception!\n"
     ]
    }
   ],
   "source": [
    "try:\n",
    "    x = int(input('input number: '))\n",
    "    if x <= 10:\n",
    "        print(10 / x)\n",
    "    else:\n",
    "        print('wrong number')\n",
    "except:\n",
    "    print('exception!')"
   ]
  },
  {
   "cell_type": "markdown",
   "metadata": {},
   "source": [
    "### 3.파이썬 내장 예외 처리"
   ]
  },
  {
   "cell_type": "code",
   "execution_count": 6,
   "metadata": {},
   "outputs": [
    {
     "name": "stdout",
     "output_type": "stream",
     "text": [
      "error\n",
      "division by zero\n"
     ]
    }
   ],
   "source": [
    "# ZeroDivision 처리\n",
    "try:\n",
    "    result = 10 / 0\n",
    "    print(result)\n",
    "except ZeroDivisionError as e:\n",
    "    print('error')\n",
    "    print(e)"
   ]
  },
  {
   "cell_type": "code",
   "execution_count": 7,
   "metadata": {},
   "outputs": [
    {
     "name": "stdout",
     "output_type": "stream",
     "text": [
      "invalid literal for int() with base 10: 'abc'\n"
     ]
    }
   ],
   "source": [
    "# ValueError 처리\n",
    "try:\n",
    "    num = int('abc')\n",
    "except ValueError as e:\n",
    "    print(e)"
   ]
  },
  {
   "cell_type": "code",
   "execution_count": 15,
   "metadata": {},
   "outputs": [],
   "source": [
    "# FileNotFoundError 처리\n",
    "#!conda install -y pandas\n",
    "import pandas as pd\n",
    "\n",
    "try:\n",
    "    data = pd.read_csv('data.csv')\n",
    "except FileNotFoundError as e:\n",
    "    print(e)"
   ]
  },
  {
   "cell_type": "markdown",
   "metadata": {},
   "source": [
    "## 4. 사용자 정의 예외\n",
    "- raise\n",
    "- 예외를 발생시키는 코드\n",
    "```python\n",
    "raise 예외클래스('예외메시지')\n",
    "```"
   ]
  },
  {
   "cell_type": "code",
   "execution_count": 17,
   "metadata": {},
   "outputs": [],
   "source": [
    "# 사용자 정의 예외 클래스\n",
    "class OutOfRangeError(Exception):\n",
    "    def __init__(self):\n",
    "        super().__init__('안내한 범위를 벗어났습니다.')\n",
    "        "
   ]
  },
  {
   "cell_type": "code",
   "execution_count": 21,
   "metadata": {},
   "outputs": [
    {
     "name": "stdout",
     "output_type": "stream",
     "text": [
      "입력한 숫자는5입니다\n"
     ]
    }
   ],
   "source": [
    "try:\n",
    "    num = int(input('1부터 10사이의 숫자를 입력하세요.'))\n",
    "    if (num < 1 ) or (num > 10):\n",
    "        raise OutOfRangeError()\n",
    "        print('raise아래 있는 코드는 실행되지 않습니다.')\n",
    "    else:\n",
    "        print(f'입력한 숫자는{num}입니다')\n",
    "except Exception as e:\n",
    "    print('='*50)\n",
    "    print('raise에서 발생한 에러는 except구문으로 넘어옵니다')\n",
    "    print(e)"
   ]
  },
  {
   "cell_type": "markdown",
   "metadata": {},
   "source": [
    "## 5. try excpet else finally"
   ]
  },
  {
   "cell_type": "code",
   "execution_count": 22,
   "metadata": {},
   "outputs": [],
   "source": [
    "try:\n",
    "    pass\n",
    "except:\n",
    "    pass\n",
    "else:\n",
    "    pass # 예외가 발생하지 않았을 때 실행할 코드\n",
    "finally:\n",
    "    pass # 예외 발생 여부 상관없이 무조건 실행"
   ]
  },
  {
   "cell_type": "code",
   "execution_count": 2,
   "metadata": {},
   "outputs": [
    {
     "name": "stdout",
     "output_type": "stream",
     "text": [
      "invalid literal for int() with base 10: 'a'\n",
      "\n",
      "파이널리 나는 무조건 실행한다.\n"
     ]
    }
   ],
   "source": [
    "try:\n",
    "    num = int(input('정수를 입력하세요: '))\n",
    "except ValueError as e:  # 입력한 데이터가 int가 아니면 예외 발생\n",
    "    print(e)\n",
    "except ZeroDivisionError as e:\n",
    "    print(e)\n",
    "    print('except 문은 여러개 사용 가능 합니다')    \n",
    "else: # try 코드에서 예외가 발생하지 않은 경우\n",
    "    print()\n",
    "    print('else 문 코드 실행')\n",
    "    print(num)\n",
    "finally:\n",
    "    print()\n",
    "    print('파이널리 나는 무조건 실행한다.')"
   ]
  },
  {
   "cell_type": "code",
   "execution_count": null,
   "metadata": {},
   "outputs": [],
   "source": []
  }
 ],
 "metadata": {
  "kernelspec": {
   "display_name": "test_venv",
   "language": "python",
   "name": "python3"
  },
  "language_info": {
   "codemirror_mode": {
    "name": "ipython",
    "version": 3
   },
   "file_extension": ".py",
   "mimetype": "text/x-python",
   "name": "python",
   "nbconvert_exporter": "python",
   "pygments_lexer": "ipython3",
   "version": "3.8.18"
  },
  "orig_nbformat": 4
 },
 "nbformat": 4,
 "nbformat_minor": 2
}
