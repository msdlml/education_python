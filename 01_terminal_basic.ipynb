{
 "cells": [
  {
   "cell_type": "markdown",
   "id": "dd9e7d28",
   "metadata": {},
   "source": [
    "# Jupyter notebook"
   ]
  },
  {
   "cell_type": "markdown",
   "id": "8a1bf90c",
   "metadata": {},
   "source": [
    "1. terminal (git bash, anaconda prompt) 실행\n",
    "2. cd Documents/my_ws\n",
    "3. conda activate test_venv\n",
    "4. jupyter notebook"
   ]
  },
  {
   "cell_type": "markdown",
   "id": "481dd5b6",
   "metadata": {},
   "source": [
    "- cell 단위로 이루어져 있습니다.\n",
    "    - cell 단위로 코드를 실행\n",
    "- mode\n",
    "    - 명령모드: cell 을 수정할 때 사용\n",
    "    - 편집모드: cell 의 내용을 수정할 때 사용\n",
    "- cell type\n",
    "    - code: cell 을 python 문법으로 실행\n",
    "    - markdown: cell 을 markdown 문법으로 실행\n",
    "- 자주 쓰는 단축키\n",
    "    - 코드 실행: shift + enter\n",
    "    - 명령모드\n",
    "        - 위에 새로운 셀 생성 a\n",
    "        - 아래에 새로운 셀 생성 b\n",
    "        - 현재 선택된 셀 삭제 x\n",
    "        - cell type을 markdown 변경 m\n",
    "        - cell type을 code 변경 y"
   ]
  },
  {
   "cell_type": "markdown",
   "id": "8a1c8114",
   "metadata": {},
   "source": [
    "# 자주 쓰는 터미널 명령어"
   ]
  },
  {
   "cell_type": "markdown",
   "id": "39432cf9",
   "metadata": {},
   "source": [
    "- ls\n",
    "    - list 현재 디렉토리 내 파일, 폴더 목록 표기\n",
    "- cd\n",
    "    - change directory 디렉토리 변경\n",
    "- pwd\n",
    "    - print working directory 현재 작업 중인 디렉토리 경로 표기\n",
    "- mkdir\n",
    "    - 새 폴더를 생성\n",
    "- touch\n",
    "    - 새로운 빈 파일 생성\n",
    "- mv \n",
    "    - 파일, 디렉토리를 이동하거나 이름을 변경\n",
    "    - ex) `mv 대상파일 옮길위치`, `mv 파일이름 변경할 파일 이름`\n",
    "- cp\n",
    "    - 파일, 디렉토리를 복사\n",
    "    - `cp 대상파일 옮길위치`\n",
    "- rm \n",
    "    - 파일, 디렉토리를 삭제\n",
    "    - `rm -rf 대상파일(폴더)`\n",
    "    - rf > relation force 하위 폴더 포함 모두 강제 삭제\n",
    "    "
   ]
  },
  {
   "cell_type": "code",
   "execution_count": 3,
   "id": "bdace0e1",
   "metadata": {
    "scrolled": true
   },
   "outputs": [
    {
     "name": "stdout",
     "output_type": "stream",
     "text": [
      "Active code page: 65001\n",
      " Volume in drive C has no label.\n",
      " Volume Serial Number is DEB6-FB83\n",
      "\n",
      " Directory of C:\\Users\\user\\desktop\\my_ws\n",
      "\n",
      "2023-09-20  �삤�썑 01:40    <DIR>          .\n",
      "2023-09-20  �삤�썑 01:40    <DIR>          ..\n",
      "2023-09-20  �삤�썑 01:07    <DIR>          .ipynb_checkpoints\n",
      "2023-09-20  �삤�쟾 10:14    <DIR>          edu\n",
      "2023-09-20  �삤�쟾 11:13    <DIR>          kms\n",
      "2023-09-20  �삤�쟾 11:14    <DIR>          project\n",
      "2023-09-20  �삤�썑 01:40             2,627 Untitled.ipynb\n",
      "               1 File(s)          2,627 bytes\n",
      "               6 Dir(s)  351,214,194,688 bytes free\n"
     ]
    }
   ],
   "source": [
    "ls"
   ]
  },
  {
   "cell_type": "code",
   "execution_count": 4,
   "id": "098ffee7",
   "metadata": {},
   "outputs": [
    {
     "name": "stdout",
     "output_type": "stream",
     "text": [
      "Active code page: 65001\n",
      "Untitled.ipynb\n",
      "edu\n",
      "kms\n",
      "project\n"
     ]
    }
   ],
   "source": [
    "!ls"
   ]
  },
  {
   "cell_type": "code",
   "execution_count": null,
   "id": "f206fa16",
   "metadata": {},
   "outputs": [],
   "source": []
  }
 ],
 "metadata": {
  "kernelspec": {
   "display_name": "Python 3 (ipykernel)",
   "language": "python",
   "name": "python3"
  },
  "language_info": {
   "codemirror_mode": {
    "name": "ipython",
    "version": 3
   },
   "file_extension": ".py",
   "mimetype": "text/x-python",
   "name": "python",
   "nbconvert_exporter": "python",
   "pygments_lexer": "ipython3",
   "version": "3.11.4"
  }
 },
 "nbformat": 4,
 "nbformat_minor": 5
}
