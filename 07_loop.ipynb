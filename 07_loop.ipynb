{
 "cells": [
  {
   "cell_type": "markdown",
   "metadata": {},
   "source": [
    "# 반복문 (loop)\n",
    "- 반복되는 코드를 실행할 때 사용\n",
    "- while, for, break, continue\n",
    "- list comprehension"
   ]
  },
  {
   "cell_type": "markdown",
   "metadata": {},
   "source": [
    "## 1. while\n",
    "\n",
    "- 조건에 의한 반복문\n",
    "\n",
    "\n"
   ]
  },
  {
   "cell_type": "code",
   "execution_count": 1,
   "metadata": {},
   "outputs": [
    {
     "name": "stdout",
     "output_type": "stream",
     "text": [
      "3\n",
      "2\n",
      "1\n"
     ]
    }
   ],
   "source": [
    "# 조건의 의한 반복문\n",
    "\n",
    "data = 3\n",
    "while data:\n",
    "    print(data)\n",
    "    data = data -1"
   ]
  },
  {
   "cell_type": "code",
   "execution_count": 2,
   "metadata": {},
   "outputs": [
    {
     "name": "stdout",
     "output_type": "stream",
     "text": [
      "1\n",
      "2\n",
      "3\n",
      "4\n",
      "5\n",
      "6\n",
      "7\n",
      "8\n",
      "9\n"
     ]
    }
   ],
   "source": [
    "#무한루프\n",
    "\n",
    "result = 1\n",
    "\n",
    "while result:\n",
    "    print(result)\n",
    "    result += 1\n",
    "\n",
    "    if result >= 10:\n",
    "        break"
   ]
  },
  {
   "cell_type": "code",
   "execution_count": 5,
   "metadata": {},
   "outputs": [
    {
     "name": "stdout",
     "output_type": "stream",
     "text": [
      "2\n",
      "4\n",
      "6\n",
      "8\n"
     ]
    }
   ],
   "source": [
    "# continue \n",
    "# 실행되면, 현재 반복 루프 내에서 continue 문 아래의 코드는 실행되지 않고,\n",
    "# 반복문의 다음 반복으로 이동합니다.\n",
    "\n",
    "cnt = 0\n",
    "\n",
    "while True:\n",
    "    cnt += 1\n",
    "\n",
    "    if cnt >= 10:\n",
    "        break\n",
    "\n",
    "    # 짝수\n",
    "    if cnt % 2:\n",
    "        continue\n",
    "\n",
    "    print(cnt)"
   ]
  },
  {
   "cell_type": "markdown",
   "metadata": {},
   "source": [
    "1. 퀴즈\n",
    "2. while문 사용\n",
    "3. q 문자열이 입력될 때 까지 단어를 words(list) 변수에 추가 (append) 받는 코드를 작성해주세요\n",
    "\n"
   ]
  },
  {
   "cell_type": "code",
   "execution_count": 8,
   "metadata": {},
   "outputs": [
    {
     "name": "stdout",
     "output_type": "stream",
     "text": [
      "['a', 'b', 'c', 'd']\n"
     ]
    }
   ],
   "source": [
    "words = []\n",
    "\n",
    "while True:\n",
    "    str = input(\"단어를 입력하세요. q를 입력하면 멈춥니다 : \")\n",
    "    if str == \"q\":        \n",
    "        print(words)\n",
    "        break\n",
    "    else:\n",
    "        words.append(str)"
   ]
  },
  {
   "cell_type": "markdown",
   "metadata": {},
   "source": [
    "1. 퀴즈\n",
    "2. 1부터 100까지 정수를 출력\n",
    "3. 대신 3의 배수인 수만 출력"
   ]
  },
  {
   "cell_type": "code",
   "execution_count": 10,
   "metadata": {},
   "outputs": [
    {
     "name": "stdout",
     "output_type": "stream",
     "text": [
      "3\n",
      "6\n",
      "9\n",
      "12\n",
      "15\n",
      "18\n",
      "21\n",
      "24\n",
      "27\n",
      "30\n",
      "33\n",
      "36\n",
      "39\n",
      "42\n",
      "45\n",
      "48\n",
      "51\n",
      "54\n",
      "57\n",
      "60\n",
      "63\n",
      "66\n",
      "69\n",
      "72\n",
      "75\n",
      "78\n",
      "81\n",
      "84\n",
      "87\n",
      "90\n",
      "93\n",
      "96\n",
      "99\n"
     ]
    }
   ],
   "source": [
    "for i in range(1,100):\n",
    "    if i % 3 == 0:\n",
    "        print(i)"
   ]
  },
  {
   "cell_type": "markdown",
   "metadata": {},
   "source": [
    " 1. 로또 번호 출력\n",
    " import random \n",
    " 2. (1) 랜덤한 숫자 6개를 출력\n",
    " 3. (2) 중복되는 숫자가 없이, 6개의 랜덤한 숫자\n",
    " 4. (3) 오름차순 정렬\n",
    " 5. (4) 1 ~ 45 숫자\n",
    " 6. (5) while 문을 사용할 것\n",
    " 7. 출력결과: [1, 2, 3, 34, 45, 33]\n",
    " "
   ]
  },
  {
   "cell_type": "code",
   "execution_count": 4,
   "metadata": {},
   "outputs": [
    {
     "name": "stdout",
     "output_type": "stream",
     "text": [
      "[17, 25, 27, 30, 42, 43]\n"
     ]
    }
   ],
   "source": [
    "import random\n",
    "\n",
    "\n",
    "list = []\n",
    "\n",
    "while len(list) < 6:\n",
    "    i = random.randint(1,45)\n",
    "    if i not in list:\n",
    "        list.append(i)\n",
    "list.sort()\n",
    "print(list)    \n"
   ]
  },
  {
   "cell_type": "code",
   "execution_count": 9,
   "metadata": {},
   "outputs": [
    {
     "name": "stdout",
     "output_type": "stream",
     "text": [
      "총점: 270 평균: 90.0 최저점수: 80\n"
     ]
    }
   ],
   "source": [
    "# 2. 학생 성적 관리 프로그램\n",
    "# (1) 학생이 있습니다\n",
    "# (2) 파이썬: 80점, 머신러닝: 90점, 딥러닝: 100점\n",
    "# points_li = [80, 90, 100]\n",
    "# (3) 총점과 평균, 최저점수를 출력해주세요\n",
    "# (4) while 문 사용할 것\n",
    "\n",
    "# 출력결과: \n",
    "\n",
    "p_li = [80, 90, 100]\n",
    "i = 0\n",
    "sum = 0 \n",
    "while i<len(p_li):\n",
    "    sum += int(p_li[i])\n",
    "    i = i + 1\n",
    "print(\"총점:\",sum,\"평균:\",sum/len(p_li),\"최저점수:\",min(p_li))"
   ]
  },
  {
   "cell_type": "code",
   "execution_count": 10,
   "metadata": {},
   "outputs": [],
   "source": [
    "#pop(n)  리스트에 n-1번째 있는 요소를 출력 후 , 삭제"
   ]
  },
  {
   "cell_type": "markdown",
   "metadata": {},
   "source": [
    "# 2. for\n",
    "- 횟수에 의한 반복문"
   ]
  },
  {
   "cell_type": "code",
   "execution_count": 11,
   "metadata": {},
   "outputs": [
    {
     "name": "stdout",
     "output_type": "stream",
     "text": [
      "1\n",
      "2\n",
      "3\n"
     ]
    }
   ],
   "source": [
    "list = [1, 2, 3]\n",
    "\n",
    "for x in list:\n",
    "    print(x)"
   ]
  },
  {
   "cell_type": "code",
   "execution_count": 13,
   "metadata": {},
   "outputs": [],
   "source": [
    "#range(n) 0~n-1 까지 반복\n",
    "#range(n,n) n부터 n-1 까지 반복\n",
    "#range(n,n,n) n 부터 n-1까지 n씩 띄어서 반복\n"
   ]
  },
  {
   "cell_type": "code",
   "execution_count": 15,
   "metadata": {},
   "outputs": [
    {
     "name": "stdout",
     "output_type": "stream",
     "text": [
      "(0, 'f')\n",
      "(1, 's')\n",
      "(2, 't')\n"
     ]
    }
   ],
   "source": [
    "# enumerate()\n",
    "# 순서가 있는 자료형을 입력으로 받습니다. ex 리스트 튜플 딕셔너리\n",
    "# 각 요소의 인덱스와 값을 함께 반환합니다.\n",
    "\n",
    "ls = [\"f\", \"s\", \"t\"]\n",
    "\n",
    "for x in enumerate(ls):\n",
    "    print(x)"
   ]
  },
  {
   "cell_type": "code",
   "execution_count": 17,
   "metadata": {},
   "outputs": [
    {
     "ename": "ValueError",
     "evalue": "not enough values to unpack (expected 2, got 1)",
     "output_type": "error",
     "traceback": [
      "\u001b[1;31m---------------------------------------------------------------------------\u001b[0m",
      "\u001b[1;31mValueError\u001b[0m                                Traceback (most recent call last)",
      "\u001b[1;32mc:\\Users\\user\\Desktop\\my_ws\\edu\\07_loop.ipynb Cell 18\u001b[0m line \u001b[0;36m4\n\u001b[0;32m      <a href='vscode-notebook-cell:/c%3A/Users/user/Desktop/my_ws/edu/07_loop.ipynb#X24sZmlsZQ%3D%3D?line=0'>1</a>\u001b[0m \u001b[39m# 딕셔너리\u001b[39;00m\n\u001b[0;32m      <a href='vscode-notebook-cell:/c%3A/Users/user/Desktop/my_ws/edu/07_loop.ipynb#X24sZmlsZQ%3D%3D?line=1'>2</a>\u001b[0m dic \u001b[39m=\u001b[39m {\u001b[39m\"\u001b[39m\u001b[39mp\u001b[39m\u001b[39m\"\u001b[39m:\u001b[39m80\u001b[39m, \u001b[39m\"\u001b[39m\u001b[39ms\u001b[39m\u001b[39m\"\u001b[39m:\u001b[39m90\u001b[39m, \u001b[39m\"\u001b[39m\u001b[39ma\u001b[39m\u001b[39m\"\u001b[39m:\u001b[39m100\u001b[39m}\n\u001b[1;32m----> <a href='vscode-notebook-cell:/c%3A/Users/user/Desktop/my_ws/edu/07_loop.ipynb#X24sZmlsZQ%3D%3D?line=3'>4</a>\u001b[0m \u001b[39mfor\u001b[39;00m key,value \u001b[39min\u001b[39;00m dic:\n\u001b[0;32m      <a href='vscode-notebook-cell:/c%3A/Users/user/Desktop/my_ws/edu/07_loop.ipynb#X24sZmlsZQ%3D%3D?line=4'>5</a>\u001b[0m     \u001b[39mprint\u001b[39m(key, value)\n",
      "\u001b[1;31mValueError\u001b[0m: not enough values to unpack (expected 2, got 1)"
     ]
    }
   ],
   "source": [
    "# 딕셔너리\n",
    "dic = {\"p\":80, \"s\":90, \"a\":100}\n",
    "\n",
    "for key,value in dic:\n",
    "    print(key, value)"
   ]
  },
  {
   "cell_type": "code",
   "execution_count": 21,
   "metadata": {},
   "outputs": [
    {
     "name": "stdout",
     "output_type": "stream",
     "text": [
      "16\n"
     ]
    }
   ],
   "source": [
    "#quiz \n",
    "# 숫자를 입력받는다.\n",
    "# 3의 배수이면 fizz 출력\n",
    "# 5의 배수이면 buzz 출력\n",
    "# 15의 배수이면 fizzbuzz 출력\n",
    "# 셋 다 아니면 입력한 숫자 출력\n",
    "\n",
    "num = int(input(\"숫자를 입력하세요 : \"))\n",
    "\n",
    "if num % 15 == 0:\n",
    "    print(\"fizzbuzz\")\n",
    "elif num % 3 ==0:\n",
    "    print(\"fizz\")\n",
    "elif num % 5 ==0:\n",
    "    print(\"buzz\")\n",
    "else:\n",
    "    print(num)"
   ]
  },
  {
   "cell_type": "code",
   "execution_count": 27,
   "metadata": {},
   "outputs": [
    {
     "name": "stdout",
     "output_type": "stream",
     "text": [
      "\n",
      "\n",
      "*\n",
      "\n",
      "**\n",
      "\n",
      "***\n",
      "\n",
      "****\n",
      "\n",
      "*****\n",
      "\n",
      "******\n",
      "\n",
      "*******\n",
      "\n",
      "********\n",
      "\n",
      "*********\n",
      "\n"
     ]
    }
   ],
   "source": [
    "#입력한 숫자만큼 별찍기\n",
    "\n",
    "num = int(input(\"숫자 입력 :\"))\n",
    "\n",
    "for x in range(num):\n",
    "    for i in range(x):\n",
    "        print(\"*\",end=\"\")\n",
    "    print(\"\\n\")"
   ]
  },
  {
   "cell_type": "code",
   "execution_count": 36,
   "metadata": {},
   "outputs": [
    {
     "name": "stdout",
     "output_type": "stream",
     "text": [
      "1 2 3 \n",
      "4 5 6 \n",
      "7 8 9 \n"
     ]
    }
   ],
   "source": [
    "# mini quiz\n",
    "\n",
    "list = [[1,2,3],\n",
    "        [4,5,6], \n",
    "        [7,8,9]]\n",
    "\n",
    "for x in list:\n",
    "    for i in x:\n",
    "        print(i, end=\" \")\n",
    "    print()"
   ]
  },
  {
   "cell_type": "markdown",
   "metadata": {},
   "source": [
    "## 3. list comprehension\n",
    "- 반복문을 이용해서 리스트 데이터를 만드는 문법\n",
    "- 삼항연산자와 비슷한 개념입니다"
   ]
  },
  {
   "cell_type": "code",
   "execution_count": null,
   "metadata": {},
   "outputs": [
    {
     "data": {
      "application/vnd.google.colaboratory.intrinsic+json": {
       "type": "string"
      },
      "text/plain": [
       "'True'"
      ]
     },
     "metadata": {},
     "output_type": "display_data"
    }
   ],
   "source": [
    "num = 1\n",
    "\n",
    "\"True\" if num else \"False\""
   ]
  },
  {
   "cell_type": "code",
   "execution_count": null,
   "metadata": {},
   "outputs": [
    {
     "name": "stdout",
     "output_type": "stream",
     "text": [
      "[0, 1, 4, 9, 16, 25, 36, 49, 64, 81]\n",
      "CPU times: user 1.62 ms, sys: 0 ns, total: 1.62 ms\n",
      "Wall time: 1.63 ms\n"
     ]
    }
   ],
   "source": [
    "%%time\n",
    "result = []\n",
    "\n",
    "for number in range(10):\n",
    "    result.append(number ** 2)\n",
    "\n",
    "print(result)"
   ]
  },
  {
   "cell_type": "code",
   "execution_count": null,
   "metadata": {},
   "outputs": [
    {
     "name": "stdout",
     "output_type": "stream",
     "text": [
      "[0, 1, 4, 9, 16, 25, 36, 49, 64, 81]\n",
      "CPU times: user 75 µs, sys: 0 ns, total: 75 µs\n",
      "Wall time: 78 µs\n"
     ]
    }
   ],
   "source": [
    "%%time\n",
    "result = [number ** 2 for number in range(10)]\n",
    "print(result)"
   ]
  },
  {
   "cell_type": "code",
   "execution_count": null,
   "metadata": {},
   "outputs": [
    {
     "data": {
      "text/plain": [
       "5"
      ]
     },
     "metadata": {},
     "output_type": "display_data"
    }
   ],
   "source": [
    "words = [\"apple\", \"banana\", \"orange\", \"grape\", \"kiwi\"]\n",
    "len(words)"
   ]
  },
  {
   "cell_type": "code",
   "execution_count": null,
   "metadata": {},
   "outputs": [
    {
     "name": "stdout",
     "output_type": "stream",
     "text": [
      "['apple', 'banana', 'orange', 'grape']\n"
     ]
    }
   ],
   "source": [
    "my_words = []\n",
    "\n",
    "for value in words:\n",
    "    # print(value)\n",
    "    if len(value) >= 5:\n",
    "        my_words.append(value)\n",
    "\n",
    "print(my_words)"
   ]
  },
  {
   "cell_type": "code",
   "execution_count": null,
   "metadata": {},
   "outputs": [
    {
     "name": "stdout",
     "output_type": "stream",
     "text": [
      "['apple', 'banana', 'orange', 'grape']\n"
     ]
    }
   ],
   "source": [
    "my_words = [value for value in words if len(value) >= 5]\n",
    "print(my_words)"
   ]
  },
  {
   "cell_type": "code",
   "execution_count": null,
   "metadata": {},
   "outputs": [
    {
     "name": "stdout",
     "output_type": "stream",
     "text": [
      "[[1, 2, 3], [4, 5, 6], [7, 8, 9]]\n"
     ]
    }
   ],
   "source": [
    "# 행렬 데이터\n",
    "# 3 by 3 행렬 데이터\n",
    "# 전치행렬\n",
    "# 2중 반복문\n",
    "# 그리고... 우리가 앞에서 배운 모든 것들 중 무언가 사용\n",
    "\n",
    "# 1. 일반 반복문 스타일로 작성\n",
    "# 2. 리스트 컴프리헨션\n",
    "\n",
    "matrix = [[1, 2, 3],\n",
    "          [4 ,5, 6],\n",
    "          [7, 8, 9]]\n",
    "\n",
    "print(matrix)"
   ]
  },
  {
   "cell_type": "markdown",
   "metadata": {},
   "source": [
    "```\n",
    "[[1, 4, 7], [2, 5, 8], [3, 6, 9]]\n",
    "```"
   ]
  },
  {
   "cell_type": "code",
   "execution_count": null,
   "metadata": {},
   "outputs": [
    {
     "data": {
      "text/plain": [
       "[0, 1, 2]"
      ]
     },
     "metadata": {},
     "output_type": "display_data"
    }
   ],
   "source": [
    "list(range(len(matrix)))"
   ]
  },
  {
   "cell_type": "code",
   "execution_count": null,
   "metadata": {},
   "outputs": [
    {
     "data": {
      "text/plain": [
       "[1, 2, 3]"
      ]
     },
     "metadata": {},
     "output_type": "display_data"
    }
   ],
   "source": [
    "matrix[0]"
   ]
  },
  {
   "cell_type": "code",
   "execution_count": null,
   "metadata": {},
   "outputs": [
    {
     "data": {
      "text/plain": [
       "[4, 5, 6]"
      ]
     },
     "metadata": {},
     "output_type": "display_data"
    }
   ],
   "source": [
    "matrix[1]"
   ]
  },
  {
   "cell_type": "code",
   "execution_count": null,
   "metadata": {},
   "outputs": [
    {
     "data": {
      "text/plain": [
       "[7, 8, 9]"
      ]
     },
     "metadata": {},
     "output_type": "display_data"
    }
   ],
   "source": [
    "matrix[2]"
   ]
  },
  {
   "cell_type": "code",
   "execution_count": null,
   "metadata": {},
   "outputs": [
    {
     "data": {
      "text/plain": [
       "3"
      ]
     },
     "metadata": {},
     "output_type": "display_data"
    }
   ],
   "source": [
    "len(matrix)"
   ]
  },
  {
   "cell_type": "code",
   "execution_count": null,
   "metadata": {},
   "outputs": [
    {
     "name": "stdout",
     "output_type": "stream",
     "text": [
      "[[1, 4, 7], [2, 5, 8], [3, 6, 9]]\n"
     ]
    }
   ],
   "source": [
    "transposed = []\n",
    "\n",
    "for idx in range(len(matrix)):\n",
    "\n",
    "    columns = []\n",
    "    for row in matrix:\n",
    "        columns.append(row[idx])\n",
    "\n",
    "    transposed.append(columns)\n",
    "\n",
    "print(transposed)"
   ]
  },
  {
   "cell_type": "code",
   "execution_count": null,
   "metadata": {},
   "outputs": [
    {
     "data": {
      "text/plain": [
       "[[1, 4, 7], [2, 5, 8], [3, 6, 9]]"
      ]
     },
     "metadata": {},
     "output_type": "display_data"
    }
   ],
   "source": [
    "transposed = [[row[idx] for row in matrix] for idx in range(len(matrix))]\n",
    "transposed"
   ]
  },
  {
   "cell_type": "code",
   "execution_count": null,
   "metadata": {},
   "outputs": [],
   "source": []
  }
 ],
 "metadata": {
  "kernelspec": {
   "display_name": "Python 3",
   "language": "python",
   "name": "python3"
  },
  "language_info": {
   "codemirror_mode": {
    "name": "ipython",
    "version": 3
   },
   "file_extension": ".py",
   "mimetype": "text/x-python",
   "name": "python",
   "nbconvert_exporter": "python",
   "pygments_lexer": "ipython3",
   "version": "3.10.13"
  },
  "orig_nbformat": 4
 },
 "nbformat": 4,
 "nbformat_minor": 2
}
