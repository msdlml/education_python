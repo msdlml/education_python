{
 "cells": [
  {
   "cell_type": "markdown",
   "metadata": {},
   "source": [
    "# 가상환경 (Virtual Environment)"
   ]
  },
  {
   "cell_type": "markdown",
   "metadata": {},
   "source": [
    "## 1. 가상환경\n",
    "- 파이썬 환경을 격리(분리)해서 여러 프로젝트 간의 충돌을 방지하는 독립적인 공간\n",
    "- 가상환경의 장점\n",
    "    - 의존성 관리: 각프로젝트에 필요한 패키지와 라이브러리를 격리하여 프로젝트 간의 충돌을 방지\n",
    "    - 패키지 버전 관리: 특정 프로젝트에서 특정 패키지의 특정 버전이 필요할 수 있음\n",
    "    - 시스템 오염 방지: 시스템 파이썬 환경을 오염시키지 않고 가상환경을 이용하여 프로젝트를 유지 보수 관리\n",
    "    - 프로젝트 단위 관리: 각 프로젝트에 대해 별도의 가상환경을 생성하여 프로젝트 간 분리를 통한 유지 보수 관리"
   ]
  },
  {
   "cell_type": "markdown",
   "metadata": {},
   "source": [
    "## 2. 주요 가상환경 종류\n",
    "- venv : 파이썬 3.3이상 버전부터 기본적으로 제공되는 표준 가상환경 관리도구\n",
    "- virtualenv : 파이썬2.x와 3.x모두에서 사용할 수 잇는 가상환경 관리도구\n",
    "- conda : 아나콘다가 제공하는 가상환경 및 패키지 관리 도구"
   ]
  },
  {
   "cell_type": "markdown",
   "metadata": {},
   "source": [
    "## 3. conda 가상환경 주요 명령어\n"
   ]
  },
  {
   "cell_type": "markdown",
   "metadata": {},
   "source": [
    "```python\n",
    "# conda 가상환경 생성\n",
    "conda create -name myenv python=3.8\n",
    "\n",
    "# conda 가상환경 활성화\n",
    "conda activate myenv\n",
    "\n",
    "# conda 가상환경 비활성화\n",
    "conda deactivate myenv\n",
    "\n",
    "# conda 가상환경 삭제\n",
    "conda env remove -name myenv\n",
    "\n",
    "# conda 가상환경 리스트 확인\n",
    "conda env list\n",
    "\n",
    "# conda 패키지 설치\n",
    "conda install -y jupyter\n",
    "\n",
    "# 패키지 설치 시도 순서\n",
    "(1) conda install -y pandas\n",
    "(2) pip install pandas\n",
    "```"
   ]
  }
 ],
 "metadata": {
  "kernelspec": {
   "display_name": "test_venv",
   "language": "python",
   "name": "python3"
  },
  "language_info": {
   "name": "python",
   "version": "3.12.0"
  },
  "orig_nbformat": 4
 },
 "nbformat": 4,
 "nbformat_minor": 2
}
