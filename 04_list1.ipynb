{
 "cells": [
  {
   "cell_type": "markdown",
   "id": "41cf2b0d",
   "metadata": {},
   "source": [
    "# 리스트 간단한 문제풀기\n",
    "list[시작:끝:조건]\n",
    "\n",
    "조건에는 n칸씩 띄어쓰기, 역순 등이 있음.\n",
    "\n",
    "-1를 사용할 때 조건 맞춰쓰기"
   ]
  },
  {
   "cell_type": "code",
   "execution_count": 49,
   "id": "2365919c",
   "metadata": {},
   "outputs": [],
   "source": [
    "list = [10,20,30,40,50,60,70,80,90,100]\n",
    "\n",
    "my_str = \"hello, world!\"\n",
    "\n"
   ]
  },
  {
   "cell_type": "code",
   "execution_count": 48,
   "id": "a63108c6",
   "metadata": {},
   "outputs": [
    {
     "data": {
      "text/plain": [
       "'lo, world!'"
      ]
     },
     "execution_count": 48,
     "metadata": {},
     "output_type": "execute_result"
    }
   ],
   "source": [
    "my_str[3:]"
   ]
  },
  {
   "cell_type": "code",
   "execution_count": 17,
   "id": "ec1a1343",
   "metadata": {},
   "outputs": [
    {
     "data": {
      "text/plain": [
       "[20, 40, 60, 80, 100]"
      ]
     },
     "execution_count": 17,
     "metadata": {},
     "output_type": "execute_result"
    }
   ],
   "source": [
    "list[1::2]"
   ]
  },
  {
   "cell_type": "code",
   "execution_count": 20,
   "id": "81a9be98",
   "metadata": {},
   "outputs": [
    {
     "data": {
      "text/plain": [
       "'!dlrow ,olleh'"
      ]
     },
     "execution_count": 20,
     "metadata": {},
     "output_type": "execute_result"
    }
   ],
   "source": [
    "my_str[::-1]"
   ]
  },
  {
   "cell_type": "code",
   "execution_count": 29,
   "id": "a5a5b84f",
   "metadata": {},
   "outputs": [
    {
     "data": {
      "text/plain": [
       "[30, 60, 90]"
      ]
     },
     "execution_count": 29,
     "metadata": {},
     "output_type": "execute_result"
    }
   ],
   "source": [
    "list[2::3]"
   ]
  },
  {
   "cell_type": "code",
   "execution_count": 37,
   "id": "d8003804",
   "metadata": {},
   "outputs": [
    {
     "data": {
      "text/plain": [
       "[50, 40, 30, 20]"
      ]
     },
     "execution_count": 37,
     "metadata": {},
     "output_type": "execute_result"
    }
   ],
   "source": [
    "list[-6:-10:-1]"
   ]
  },
  {
   "cell_type": "code",
   "execution_count": 32,
   "id": "cdea2356",
   "metadata": {},
   "outputs": [
    {
     "data": {
      "text/plain": [
       "'hl r!'"
      ]
     },
     "execution_count": 32,
     "metadata": {},
     "output_type": "execute_result"
    }
   ],
   "source": [
    "my_str[::3]"
   ]
  },
  {
   "cell_type": "code",
   "execution_count": 39,
   "id": "cec5cd5f",
   "metadata": {},
   "outputs": [
    {
     "data": {
      "text/plain": [
       "'w ,oll'"
      ]
     },
     "execution_count": 39,
     "metadata": {},
     "output_type": "execute_result"
    }
   ],
   "source": [
    "my_str[-6:-12:-1]"
   ]
  },
  {
   "cell_type": "code",
   "execution_count": 42,
   "id": "1eb4e2d9",
   "metadata": {},
   "outputs": [
    {
     "data": {
      "text/plain": [
       "'!lo o'"
      ]
     },
     "execution_count": 42,
     "metadata": {},
     "output_type": "execute_result"
    }
   ],
   "source": [
    "my_str[-1:-11:-2]"
   ]
  },
  {
   "cell_type": "code",
   "execution_count": 46,
   "id": "aeb47397",
   "metadata": {},
   "outputs": [
    {
     "data": {
      "text/plain": [
       "[80, 70, 60, 50, 40]"
      ]
     },
     "execution_count": 46,
     "metadata": {},
     "output_type": "execute_result"
    }
   ],
   "source": [
    "list[-3:-8:-1]"
   ]
  }
 ],
 "metadata": {
  "kernelspec": {
   "display_name": "Python 3 (ipykernel)",
   "language": "python",
   "name": "python3"
  },
  "language_info": {
   "codemirror_mode": {
    "name": "ipython",
    "version": 3
   },
   "file_extension": ".py",
   "mimetype": "text/x-python",
   "name": "python",
   "nbconvert_exporter": "python",
   "pygments_lexer": "ipython3",
   "version": "3.11.4"
  }
 },
 "nbformat": 4,
 "nbformat_minor": 5
}
