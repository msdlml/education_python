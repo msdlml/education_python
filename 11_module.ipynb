{
 "cells": [
  {
   "cell_type": "markdown",
   "metadata": {},
   "source": [
    "# 모듈(Module)"
   ]
  },
  {
   "cell_type": "markdown",
   "metadata": {},
   "source": [
    "## 1. 모듈 개념\n",
    "- 변수, 함수, 클래스 등을 포함하는 하나의 파이썬 파일(.py)\n",
    "- import math, from bs4 import BeatifulSoup\n",
    "- 코드의 가독성을 높이고 유지 보수 관리 용이\n",
    "- 모듈 네이밍 컨벤션\n",
    "    - 소문자\n",
    "    - 스네이크 케이스\n",
    "    - mymodul.py, my_module.py\n",
    "- 모듈(module) -> 패키지(package) -> 라이브러리(library)\n",
    "    - 모듈 : 변수, 함수, 클래스\n",
    "    - 패키지 : 모듈을 모아놓은 폴더\n",
    "    - 라이브러리 : 모듈과 패키지를 포함하는 개념\n",
    "    "
   ]
  },
  {
   "cell_type": "markdown",
   "metadata": {},
   "source": [
    "## 2. 모듈 전체 호출\n",
    "- `import module`"
   ]
  },
  {
   "cell_type": "code",
   "execution_count": 1,
   "metadata": {},
   "outputs": [
    {
     "name": "stdout",
     "output_type": "stream",
     "text": [
      "1\n",
      "2\n",
      "더하기 모듈임 3\n",
      "사자 이/가 쿠어루어룸얼아랑소리를 냅니다\n"
     ]
    }
   ],
   "source": [
    "import my_module\n",
    "\n",
    "#모듈의 변수\n",
    "print(my_module.num1)\n",
    "print(my_module.num2)\n",
    "\n",
    "#모듈의 함수\n",
    "my_module.plus(1, 2)\n",
    "\n",
    "#모듈의 클래스\n",
    "lion = my_module.Animal('사자')\n",
    "lion.make_sound(\"쿠어루어룸얼아랑\")"
   ]
  },
  {
   "cell_type": "code",
   "execution_count": 2,
   "metadata": {},
   "outputs": [
    {
     "data": {
      "text/plain": [
       "['Animal', 'num1', 'num2', 'plus']"
      ]
     },
     "execution_count": 2,
     "metadata": {},
     "output_type": "execute_result"
    }
   ],
   "source": [
    "[func for func in dir(my_module) if func[0] != \"_\"]\n"
   ]
  },
  {
   "cell_type": "markdown",
   "metadata": {},
   "source": [
    "## 3. 모듈의 일부 내용 호출\n",
    "- from func import module"
   ]
  },
  {
   "cell_type": "code",
   "execution_count": 16,
   "metadata": {},
   "outputs": [],
   "source": [
    "from my_module import num1\n",
    "from my_module import num2\n",
    "from my_module import plus\n",
    "from my_module import Animal   #모듈의 일부만 가져옴\n",
    "#import requests << 모듈 전체를 가져오는 것"
   ]
  },
  {
   "cell_type": "code",
   "execution_count": 13,
   "metadata": {},
   "outputs": [
    {
     "name": "stdout",
     "output_type": "stream",
     "text": [
      "더하기 모듈임 3\n"
     ]
    }
   ],
   "source": [
    "plus(num1, num2)"
   ]
  },
  {
   "cell_type": "code",
   "execution_count": 14,
   "metadata": {},
   "outputs": [
    {
     "name": "stdout",
     "output_type": "stream",
     "text": [
      "더하기 모듈임 3\n"
     ]
    }
   ],
   "source": [
    "import my_module\n",
    "\n",
    "my_module.plus(my_module.num1, my_module.num2)"
   ]
  },
  {
   "cell_type": "code",
   "execution_count": 17,
   "metadata": {},
   "outputs": [
    {
     "name": "stdout",
     "output_type": "stream",
     "text": [
      "호랑이 이/가 쿠어어루어머어머멈멈소리를 냅니다\n"
     ]
    }
   ],
   "source": [
    "tiger = Animal('호랑이')\n",
    "tiger.make_sound('쿠어어루어머어머멈멈')"
   ]
  },
  {
   "cell_type": "markdown",
   "metadata": {},
   "source": [
    "## 4. 모듈 이름 변경 호출\n",
    "- import module as md"
   ]
  },
  {
   "cell_type": "code",
   "execution_count": 18,
   "metadata": {},
   "outputs": [],
   "source": [
    "import my_module as md"
   ]
  },
  {
   "cell_type": "code",
   "execution_count": 21,
   "metadata": {},
   "outputs": [
    {
     "name": "stdout",
     "output_type": "stream",
     "text": [
      "1 2\n",
      "더하기 모듈임 3\n",
      "치와아 이/가 크르르릉소리를 냅니다\n"
     ]
    }
   ],
   "source": [
    "print(md.num1, md.num2)\n",
    "md.plus(md.num1,md.num2)\n",
    "dog = md.Animal('치와아')\n",
    "dog.make_sound(\"크르르릉\")"
   ]
  },
  {
   "cell_type": "markdown",
   "metadata": {},
   "source": [
    "## 5. `if __name__ == \"__main__\"`\n",
    "- 모듈(.py)이 터미널에서 직접 실행되는 경우\n",
    "- jupyter notebook 에서 import module로 불러와서 사용한느 경우"
   ]
  },
  {
   "cell_type": "code",
   "execution_count": 22,
   "metadata": {},
   "outputs": [],
   "source": [
    "import my_weather_info"
   ]
  },
  {
   "cell_type": "code",
   "execution_count": 23,
   "metadata": {},
   "outputs": [
    {
     "name": "stdout",
     "output_type": "stream",
     "text": [
      "my_weather_info\n"
     ]
    }
   ],
   "source": [
    "print(my_weather_info.__name__)"
   ]
  },
  {
   "cell_type": "code",
   "execution_count": 27,
   "metadata": {},
   "outputs": [
    {
     "data": {
      "text/plain": [
       "('Rain', 20.89)"
      ]
     },
     "execution_count": 27,
     "metadata": {},
     "output_type": "execute_result"
    }
   ],
   "source": [
    "my_weather_info.main('Seoul')"
   ]
  },
  {
   "cell_type": "code",
   "execution_count": null,
   "metadata": {},
   "outputs": [],
   "source": []
  }
 ],
 "metadata": {
  "kernelspec": {
   "display_name": "test_venv",
   "language": "python",
   "name": "python3"
  },
  "language_info": {
   "codemirror_mode": {
    "name": "ipython",
    "version": 3
   },
   "file_extension": ".py",
   "mimetype": "text/x-python",
   "name": "python",
   "nbconvert_exporter": "python",
   "pygments_lexer": "ipython3",
   "version": "3.8.18"
  },
  "orig_nbformat": 4
 },
 "nbformat": 4,
 "nbformat_minor": 2
}
