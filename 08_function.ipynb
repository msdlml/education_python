{
 "cells": [
  {
   "cell_type": "markdown",
   "metadata": {},
   "source": [
    "# 함수 (function)"
   ]
  },
  {
   "cell_type": "markdown",
   "metadata": {},
   "source": [
    "- 함수의 선언과 호출\n",
    "- parameter, argument\n",
    "- return\n",
    "- *args, **kwargs\n",
    "- docstring\n",
    "- scope\n",
    "- lamda function"
   ]
  },
  {
   "cell_type": "markdown",
   "metadata": {},
   "source": [
    "## 1. 함수 (function)의 개념\n",
    "- 반복적으로 사용하는 코드를 하나의 묶음으로 처리해서 사용하는 문법\n",
    "- 코드의 유지 보수 관리가 용이해짐"
   ]
  },
  {
   "cell_type": "code",
   "execution_count": 1,
   "metadata": {},
   "outputs": [],
   "source": [
    "# 함수 예약어\n",
    "# definition\n",
    "\n",
    "def func():\n",
    "    pass"
   ]
  },
  {
   "cell_type": "markdown",
   "metadata": {},
   "source": [
    "## 2. 함수의 선언과 호출\n"
   ]
  },
  {
   "cell_type": "code",
   "execution_count": 2,
   "metadata": {},
   "outputs": [],
   "source": [
    "def myfunc():\n",
    "    print('this is func')"
   ]
  },
  {
   "cell_type": "code",
   "execution_count": 4,
   "metadata": {},
   "outputs": [
    {
     "name": "stdout",
     "output_type": "stream",
     "text": [
      "this is func\n"
     ]
    }
   ],
   "source": [
    "myfunc()"
   ]
  },
  {
   "cell_type": "code",
   "execution_count": 5,
   "metadata": {},
   "outputs": [
    {
     "name": "stdout",
     "output_type": "stream",
     "text": [
      "b\n"
     ]
    }
   ],
   "source": [
    "# 함수가 필요한 경우 예시\n",
    "\n",
    "\n",
    "if point >= 90:\n",
    "    print('a')\n",
    "elif point >= 80:\n",
    "    print('b')\n",
    "else:\n",
    "    print('c')\n"
   ]
  },
  {
   "cell_type": "code",
   "execution_count": 15,
   "metadata": {},
   "outputs": [],
   "source": [
    "# 함수 선언\n",
    "def grade(point):\n",
    "  if point >= 90:\n",
    "      print('a')\n",
    "  elif point >= 80:\n",
    "      print('b')\n",
    "  else:\n",
    "      print('c')\n"
   ]
  },
  {
   "cell_type": "code",
   "execution_count": 17,
   "metadata": {},
   "outputs": [
    {
     "name": "stdout",
     "output_type": "stream",
     "text": [
      "a\n"
     ]
    }
   ],
   "source": [
    "# 함수 호출\n",
    "point = 90\n",
    "grade(point)\n"
   ]
  },
  {
   "cell_type": "markdown",
   "metadata": {},
   "source": [
    "## 3. parameter and argument"
   ]
  },
  {
   "cell_type": "code",
   "execution_count": 19,
   "metadata": {},
   "outputs": [
    {
     "name": "stdout",
     "output_type": "stream",
     "text": [
      "3\n"
     ]
    }
   ],
   "source": [
    "# 함수 선언\n",
    "def my_add(num1,num2):   # 선언 시 재료 parameter \n",
    "    print(num1 + num2)\n",
    "\n",
    "# 함수 호출\n",
    "my_add(1, 2) # 호출 시 재료 argument\n",
    "\n",
    "# 두 가지 통틀어서 보통 매개변수라고 함."
   ]
  },
  {
   "cell_type": "markdown",
   "metadata": {},
   "source": [
    "### 3-1 갯수, 순서에 대한 설정"
   ]
  },
  {
   "cell_type": "markdown",
   "metadata": {},
   "source": [
    "- default parameter"
   ]
  },
  {
   "cell_type": "code",
   "execution_count": 24,
   "metadata": {},
   "outputs": [
    {
     "name": "stdout",
     "output_type": "stream",
     "text": [
      "3\n",
      "13\n"
     ]
    }
   ],
   "source": [
    "def my_add(num1, num2 = 10):\n",
    "    print(num1 + num2)\n",
    "\n",
    "my_add(1,2)\n",
    "my_add(3)"
   ]
  },
  {
   "cell_type": "markdown",
   "metadata": {},
   "source": [
    "### 3-2 특정 값만 지정해서 변경"
   ]
  },
  {
   "cell_type": "markdown",
   "metadata": {},
   "source": [
    "- keyword argument"
   ]
  },
  {
   "cell_type": "code",
   "execution_count": 25,
   "metadata": {},
   "outputs": [],
   "source": [
    "def cal(num1, num2 = 10, num3 = 20):\n",
    "    print(num1 + num2 - num3)"
   ]
  },
  {
   "cell_type": "code",
   "execution_count": 31,
   "metadata": {},
   "outputs": [
    {
     "name": "stdout",
     "output_type": "stream",
     "text": [
      "-16\n",
      "7\n",
      "7\n"
     ]
    }
   ],
   "source": [
    "cal(1,3)\n",
    "cal(1, num3 = 4)\n",
    "cal( num3 = 3, num2 = 0, num1 = 10) ## << keyword argument"
   ]
  },
  {
   "cell_type": "markdown",
   "metadata": {},
   "source": [
    "## 4.<mark> return <mark>"
   ]
  },
  {
   "cell_type": "markdown",
   "metadata": {},
   "source": [
    "### 4-1 return basic\n"
   ]
  },
  {
   "cell_type": "code",
   "execution_count": 32,
   "metadata": {},
   "outputs": [],
   "source": [
    "def my_add_no_return(num1, num2):\n",
    "    print(num1 + num2)"
   ]
  },
  {
   "cell_type": "code",
   "execution_count": 33,
   "metadata": {},
   "outputs": [
    {
     "name": "stdout",
     "output_type": "stream",
     "text": [
      "3\n"
     ]
    }
   ],
   "source": [
    "result = my_add_no_return(1,2) #<< 실체가 없음\n"
   ]
  },
  {
   "cell_type": "code",
   "execution_count": 35,
   "metadata": {},
   "outputs": [
    {
     "ename": "NameError",
     "evalue": "name 'result' is not defined",
     "output_type": "error",
     "traceback": [
      "\u001b[1;31m---------------------------------------------------------------------------\u001b[0m",
      "\u001b[1;31mNameError\u001b[0m                                 Traceback (most recent call last)",
      "\u001b[1;32mc:\\Users\\user\\Desktop\\my_ws\\edu\\08_function.ipynb Cell 23\u001b[0m line \u001b[0;36m1\n\u001b[1;32m----> <a href='vscode-notebook-cell:/c%3A/Users/user/Desktop/my_ws/edu/08_function.ipynb#X44sZmlsZQ%3D%3D?line=0'>1</a>\u001b[0m \u001b[39mprint\u001b[39m(result)\n",
      "\u001b[1;31mNameError\u001b[0m: name 'result' is not defined"
     ]
    }
   ],
   "source": [
    "print(result)"
   ]
  },
  {
   "cell_type": "code",
   "execution_count": 38,
   "metadata": {},
   "outputs": [
    {
     "data": {
      "text/plain": [
       "8"
      ]
     },
     "execution_count": 38,
     "metadata": {},
     "output_type": "execute_result"
    }
   ],
   "source": [
    "def yes_return(n1, n2):\n",
    "    return n1 + n2\n",
    "# return 이라는 명령어가 들어가야 함수의 최종 값을 저장\n",
    "result = yes_return(1,2)\n",
    "5 + result"
   ]
  },
  {
   "cell_type": "markdown",
   "metadata": {},
   "source": [
    "### 4-2 다중 return"
   ]
  },
  {
   "cell_type": "code",
   "execution_count": 40,
   "metadata": {},
   "outputs": [
    {
     "name": "stdout",
     "output_type": "stream",
     "text": [
      "['codelion', 5]\n"
     ]
    }
   ],
   "source": [
    "def get_name_age():\n",
    "    name = \"codelion\"\n",
    "    age = 5\n",
    "    return name, age #다중리턴 기본 값을 튜플 데이터 타입\n",
    "result = get_name_age()\n",
    "print(result)"
   ]
  },
  {
   "cell_type": "markdown",
   "metadata": {},
   "source": [
    "### 4-3 리턴의 다른용도"
   ]
  },
  {
   "cell_type": "markdown",
   "metadata": {},
   "source": [
    "- 함수 내부에서 return을 만나는 순간 코드 종료\n",
    "- break"
   ]
  },
  {
   "cell_type": "code",
   "execution_count": 7,
   "metadata": {},
   "outputs": [
    {
     "name": "stdout",
     "output_type": "stream",
     "text": [
      "continue\n",
      "save!!\n"
     ]
    }
   ],
   "source": [
    "def save(msg):\n",
    "    if msg == \"save\":\n",
    "        return print(\"save!!\") \n",
    "    print(\"continue\")\n",
    "\n",
    "save(\"ads\")\n",
    "save(\"save\")"
   ]
  },
  {
   "cell_type": "markdown",
   "metadata": {},
   "source": [
    "## 5. 매개변수 타입 힌트와 docstring"
   ]
  },
  {
   "cell_type": "code",
   "execution_count": 47,
   "metadata": {},
   "outputs": [
    {
     "data": {
      "text/plain": [
       "6"
      ]
     },
     "execution_count": 47,
     "metadata": {},
     "output_type": "execute_result"
    }
   ],
   "source": [
    "def my_sum(n1 : int,n2 : int,n3 : int) -> int:\n",
    "    \"\"\"이 함수는 숫자 3개를 입력 받습니다.\"\"\"\n",
    "    return n1+ n2 + n3\n",
    "\n",
    "my_sum(1,2,3)"
   ]
  },
  {
   "cell_type": "markdown",
   "metadata": {},
   "source": [
    "## 6. *args, **kwargs"
   ]
  },
  {
   "cell_type": "markdown",
   "metadata": {},
   "source": [
    "### 6-1. *args"
   ]
  },
  {
   "cell_type": "code",
   "execution_count": 48,
   "metadata": {},
   "outputs": [
    {
     "name": "stdout",
     "output_type": "stream",
     "text": [
      "text\n"
     ]
    }
   ],
   "source": [
    "def print_func(value):\n",
    "    print(value)\n",
    "print_func(\"text\")"
   ]
  },
  {
   "cell_type": "code",
   "execution_count": 52,
   "metadata": {},
   "outputs": [
    {
     "name": "stdout",
     "output_type": "stream",
     "text": [
      "('text',)\n",
      "(1,)\n",
      "(1, 2, 3)\n"
     ]
    }
   ],
   "source": [
    "def my_print_func_args(*args): ##데이터를 여러개 넣어도 출력해줌\n",
    "    print(args)\n",
    "my_print_func_args(\"text\")\n",
    "my_print_func_args(1)\n",
    "my_print_func_args(1,2,3)"
   ]
  },
  {
   "cell_type": "markdown",
   "metadata": {},
   "source": [
    "### 6-2. **kwargs"
   ]
  },
  {
   "cell_type": "code",
   "execution_count": 55,
   "metadata": {},
   "outputs": [
    {
     "name": "stdout",
     "output_type": "stream",
     "text": [
      "{'skill': 'py', 'level': 3}\n",
      "py\n",
      "3\n"
     ]
    }
   ],
   "source": [
    "# keyword argument unpacking\n",
    "def func_kwargs(**kwargs):  ## key, value 값을 받음 > 딕셔너리 데이터 타입으로 출력\n",
    "    print(kwargs)\n",
    "    print(kwargs['skill'])\n",
    "    print(kwargs['level'])\n",
    "func_kwargs(skill=\"py\", level=3)"
   ]
  },
  {
   "cell_type": "markdown",
   "metadata": {},
   "source": [
    "## 6-3. 함수 매개변수 혼합"
   ]
  },
  {
   "cell_type": "code",
   "execution_count": 57,
   "metadata": {},
   "outputs": [
    {
     "name": "stdout",
     "output_type": "stream",
     "text": [
      "3.6666666666666665 1\n"
     ]
    }
   ],
   "source": [
    "def calc(unit, *args):\n",
    "    print(sum(args) / len(args), unit) ##재료를 넣는 순서가 중요함!\n",
    "calc(1,3,4,4)   ##첫번째 자리는 unit의 값이 들어가고 나머지 자리에는 args의 값이 들어감"
   ]
  },
  {
   "cell_type": "code",
   "execution_count": 59,
   "metadata": {},
   "outputs": [
    {
     "name": "stdout",
     "output_type": "stream",
     "text": [
      "27.5 km\n"
     ]
    }
   ],
   "source": [
    "def calc(*args, unit = \"cm\"):\n",
    "    print(sum(args) / len(args), unit) ##재료를 넣는 순서가 중요함!\n",
    "calc(10,20,30,50, unit = \"km\")  ## 함수 호출문에서 매개변수 값 변경"
   ]
  },
  {
   "cell_type": "code",
   "execution_count": 63,
   "metadata": {},
   "outputs": [
    {
     "name": "stdout",
     "output_type": "stream",
     "text": [
      "1h2h3h4\n"
     ]
    }
   ],
   "source": [
    "print(1,2,3,4, sep=\"h\")"
   ]
  },
  {
   "cell_type": "code",
   "execution_count": 64,
   "metadata": {},
   "outputs": [],
   "source": [
    "# 모든 매개변수 조합\n",
    "def combination_func(x,y,z,*args, batch_size = 16, epochs =1000, **kwargs):\n",
    "    print(x, y, z, args, batch_size, epochs, kwargs)"
   ]
  },
  {
   "cell_type": "code",
   "execution_count": 66,
   "metadata": {},
   "outputs": [
    {
     "name": "stdout",
     "output_type": "stream",
     "text": [
      "1 2 3 (4, 5, 6, 7, 8, 9, 10) 16 1000 {'skill': 'deeplearning'}\n"
     ]
    }
   ],
   "source": [
    "combination_func(1,2,3,4,5,6,7,8,9,10,skill = \"deeplearning\")"
   ]
  },
  {
   "cell_type": "code",
   "execution_count": 67,
   "metadata": {},
   "outputs": [
    {
     "name": "stdout",
     "output_type": "stream",
     "text": [
      "(1, 2, 3) {'b_s': 32}\n"
     ]
    }
   ],
   "source": [
    "def args_func(*a,**b):\n",
    "    print(a, b)\n",
    "## positional argument 는 keyword argument 보다 앞에 있어야 한다.\n",
    "args_func(1,2,3, b_s = 32)"
   ]
  },
  {
   "cell_type": "markdown",
   "metadata": {},
   "source": [
    "### 7. 스코프(scope)"
   ]
  },
  {
   "cell_type": "code",
   "execution_count": 68,
   "metadata": {},
   "outputs": [
    {
     "name": "stdout",
     "output_type": "stream",
     "text": [
      "10\n"
     ]
    }
   ],
   "source": [
    "\n",
    "\n",
    "def my_function():\n",
    "    x = 10  ## x는 지역 변수\n",
    "    print(x)\n",
    "\n",
    "my_function() ## 지역 변수에 접근해서 코드를 사용\n",
    "\n"
   ]
  },
  {
   "cell_type": "code",
   "execution_count": 70,
   "metadata": {},
   "outputs": [
    {
     "name": "stdout",
     "output_type": "stream",
     "text": [
      "지역변수 10\n",
      "전역변수 100\n"
     ]
    }
   ],
   "source": [
    "y =100   ## y는 전역 변수\n",
    "def my_function():\n",
    "    y = 10\n",
    "    print('지역변수',y)\n",
    "\n",
    "my_function() \n",
    "print('전역변수', y) "
   ]
  },
  {
   "cell_type": "code",
   "execution_count": 73,
   "metadata": {},
   "outputs": [
    {
     "name": "stdout",
     "output_type": "stream",
     "text": [
      "지역변수 100\n",
      "전역변수 10\n"
     ]
    }
   ],
   "source": [
    "x = 10  ## 전역변수\n",
    "\n",
    "def modify_global_variable():\n",
    "    global x   ## 전역변수 x를 함수 내부에서 사용\n",
    "    x = 100 ## 지역변수\n",
    "    print('지역변수', x)\n",
    "\n",
    "modify_global_variable()\n",
    "print('전역변수', x)"
   ]
  },
  {
   "cell_type": "markdown",
   "metadata": {},
   "source": [
    "## 8. 람다(lambda)\n",
    "- 함수를 한 줄로 간단하게 표현\n",
    "- 간단한 연산을 수행하거나 하는 상황에 사용\n",
    "\n",
    "```python\n",
    "lambda  argument: expression(표현식)\n",
    "```\n",
    "\n",
    "- lambda: 람다 함수를 정의하기 위한 파이썬 예약어\n",
    "- argument: 함수 호출시 전달하는 매개변수\n",
    "- expression: 함수가 실행될 때 반환할 식을 나타내는 부분"
   ]
  },
  {
   "cell_type": "code",
   "execution_count": 74,
   "metadata": {},
   "outputs": [
    {
     "data": {
      "text/plain": [
       "3"
      ]
     },
     "execution_count": 74,
     "metadata": {},
     "output_type": "execute_result"
    }
   ],
   "source": [
    "# original func\n",
    "def origin_func_plus(a,b):\n",
    "    return a + b\n",
    "\n",
    "origin_func_plus(1,2)"
   ]
  },
  {
   "cell_type": "code",
   "execution_count": 75,
   "metadata": {},
   "outputs": [
    {
     "data": {
      "text/plain": [
       "<function __main__.<lambda>(a, b)>"
      ]
     },
     "execution_count": 75,
     "metadata": {},
     "output_type": "execute_result"
    }
   ],
   "source": [
    "#lambda\n",
    "lambda a,b: a + b(1, 2)"
   ]
  },
  {
   "cell_type": "code",
   "execution_count": 76,
   "metadata": {},
   "outputs": [
    {
     "data": {
      "text/plain": [
       "3"
      ]
     },
     "execution_count": 76,
     "metadata": {},
     "output_type": "execute_result"
    }
   ],
   "source": [
    "lambda_func_plus = lambda a, b: a+b\n",
    "lambda_func_plus(1,2)"
   ]
  },
  {
   "cell_type": "code",
   "execution_count": 77,
   "metadata": {},
   "outputs": [
    {
     "data": {
      "text/plain": [
       "3"
      ]
     },
     "execution_count": 77,
     "metadata": {},
     "output_type": "execute_result"
    }
   ],
   "source": [
    "def calc(func, num1, num2):\n",
    "    return func(num1, num2)\n",
    "\n",
    "def plus(num1, num2):\n",
    "    return num1 + num2\n",
    "calc(plus,1,2)"
   ]
  },
  {
   "cell_type": "code",
   "execution_count": 79,
   "metadata": {},
   "outputs": [
    {
     "data": {
      "text/plain": [
       "-1"
      ]
     },
     "execution_count": 79,
     "metadata": {},
     "output_type": "execute_result"
    }
   ],
   "source": [
    "calc(lambda num1, num2: num1 - num2, 1,2)"
   ]
  },
  {
   "cell_type": "markdown",
   "metadata": {},
   "source": [
    "## 9. 함수예제\n",
    "- 날씨 정보 가져오기 > 함수\n",
    "- 리팩토링"
   ]
  },
  {
   "cell_type": "code",
   "execution_count": 5,
   "metadata": {},
   "outputs": [],
   "source": [
    "import requests\n",
    "import json\n",
    "\n",
    "city = 'Seoul'\n",
    "apikey = '720d7f9e604a5f0785728eca2145f223'\n",
    "lang = \"kr\"\n",
    "api = f'https://api.openweathermap.org/data/2.5/weather?q={city}&appid={apikey}&lang={lang}&units=metric'\n",
    "\n",
    "response = requests.get(api)\n"
   ]
  },
  {
   "cell_type": "code",
   "execution_count": 6,
   "metadata": {},
   "outputs": [
    {
     "name": "stdout",
     "output_type": "stream",
     "text": [
      "Clouds\n",
      "22.99\n"
     ]
    }
   ],
   "source": [
    "import requests\n",
    "import json\n",
    "\n",
    "def get_weather_info(city, apikey, lang=\"kr\"):\n",
    "    api = f'https://api.openweathermap.org/data/2.5/weather?q={city}&appid={apikey}&lang={lang}&units=metric'\n",
    "    response = requests.get(api)\n",
    "    data = json.loads(response.text)\n",
    "\n",
    "    print(data['weather'][0]['main'])\n",
    "    print(data['main']['temp'])\n",
    "\n",
    "get_weather_info('busan', apikey)\n"
   ]
  },
  {
   "cell_type": "code",
   "execution_count": null,
   "metadata": {},
   "outputs": [],
   "source": []
  }
 ],
 "metadata": {
  "kernelspec": {
   "display_name": "Python 3",
   "language": "python",
   "name": "python3"
  },
  "language_info": {
   "codemirror_mode": {
    "name": "ipython",
    "version": 3
   },
   "file_extension": ".py",
   "mimetype": "text/x-python",
   "name": "python",
   "nbconvert_exporter": "python",
   "pygments_lexer": "ipython3",
   "version": "3.8.18"
  },
  "orig_nbformat": 4
 },
 "nbformat": 4,
 "nbformat_minor": 2
}
