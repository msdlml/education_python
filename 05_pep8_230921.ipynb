{
 "cells": [
  {
   "cell_type": "markdown",
   "id": "66549963",
   "metadata": {},
   "source": [
    "## 1. 가로간격\n",
    "- 들여쓰기 (indent)\n",
    "- 공백 4칸(default값)\n"
   ]
  },
  {
   "cell_type": "code",
   "execution_count": 2,
   "id": "ec6c1c9c",
   "metadata": {},
   "outputs": [
    {
     "name": "stdout",
     "output_type": "stream",
     "text": [
      "0\n",
      "1\n",
      "2\n",
      "2\n"
     ]
    }
   ],
   "source": [
    "# 들여쓰기 4칸\n",
    "for i in range(3):\n",
    "    print(i)\n",
    "print(i)"
   ]
  },
  {
   "cell_type": "code",
   "execution_count": 3,
   "id": "8b532b31",
   "metadata": {},
   "outputs": [
    {
     "name": "stdout",
     "output_type": "stream",
     "text": [
      "0\n",
      "1\n",
      "2\n",
      "2\n"
     ]
    }
   ],
   "source": [
    "# 들여쓰기 2칸\n",
    "for i in range(3):\n",
    "  print(i)\n",
    "print(i)\n"
   ]
  },
  {
   "cell_type": "code",
   "execution_count": 4,
   "id": "530759d7",
   "metadata": {},
   "outputs": [
    {
     "name": "stdout",
     "output_type": "stream",
     "text": [
      "0\n",
      "1\n",
      "2\n",
      "2\n"
     ]
    }
   ],
   "source": [
    "# 들여쓰기 8칸\n",
    "for i in range(3):\n",
    "        print(i)\n",
    "print(i)"
   ]
  },
  {
   "cell_type": "markdown",
   "id": "387503b8",
   "metadata": {},
   "source": [
    "## 2.세로간격\n"
   ]
  },
  {
   "cell_type": "code",
   "execution_count": null,
   "id": "be08f9ba",
   "metadata": {},
   "outputs": [],
   "source": [
    "#나쁜 예\n",
    "class Mycalc:\n",
    "    def init():\n",
    "        pass\n",
    "    def plus():\n",
    "        pass\n",
    "    def minus():\n",
    "        pass"
   ]
  },
  {
   "cell_type": "code",
   "execution_count": null,
   "id": "4331a23c",
   "metadata": {},
   "outputs": [],
   "source": [
    "#좋은 예\n",
    "class Mycalc:\n",
    "    \n",
    "    def init():\n",
    "        pass\n",
    "    \n",
    "    def plus():\n",
    "        pass\n",
    "    \n",
    "    def minus():\n",
    "        pass\n",
    "#기능의 구분이 있을 때 세로간격을 구분해주는 것이 좋음"
   ]
  },
  {
   "cell_type": "markdown",
   "id": "6dff85e9",
   "metadata": {},
   "source": [
    "## 3. 연산자와 식별자 사이에 공백 한 칸"
   ]
  },
  {
   "cell_type": "code",
   "execution_count": null,
   "id": "226de1b5",
   "metadata": {},
   "outputs": [],
   "source": [
    "# 나쁜 예\n",
    "\n",
    "list=[1, 2, 3, 4]\n",
    "list[:i]+list[i:]+list[i]\n",
    "\n",
    "#좋은 예\n",
    "\n",
    "list = [1, 2, 3, 4]\n",
    "list[:i] + list[i:] + list[i]"
   ]
  },
  {
   "cell_type": "markdown",
   "id": "97a9bfab",
   "metadata": {},
   "source": [
    "## 4. 구분자는 뒤쪽에 공백 한 칸"
   ]
  },
  {
   "cell_type": "code",
   "execution_count": null,
   "id": "c47d8f0c",
   "metadata": {},
   "outputs": [],
   "source": [
    "# 나쁜 예\n",
    "def spam(egg,bacon,ham):\n",
    "    kal=[80,100,200]\n",
    "    \n",
    "# 좋은 예\n",
    "def spam(egg, bacon, ham):\n",
    "    kal = [80, 100, 200]"
   ]
  },
  {
   "cell_type": "markdown",
   "id": "5fc510e0",
   "metadata": {},
   "source": [
    "## 5. 마침표 앞뒤에는 공백을 넣지 않습니다"
   ]
  },
  {
   "cell_type": "code",
   "execution_count": 5,
   "id": "d1260453",
   "metadata": {},
   "outputs": [
    {
     "data": {
      "text/plain": [
       "0"
      ]
     },
     "execution_count": 5,
     "metadata": {},
     "output_type": "execute_result"
    }
   ],
   "source": [
    "import random\n",
    "# 좋은 예\n",
    "random.randint(0, 4)\n",
    "\n",
    "#나쁜 예\n",
    "random . randint(0, 4)"
   ]
  },
  {
   "cell_type": "markdown",
   "id": "4699b4d3",
   "metadata": {},
   "source": [
    "## 6. 함수, 메서드, 컨테이너 이름 뒤에는 공백을 넣지 않습니다"
   ]
  },
  {
   "cell_type": "code",
   "execution_count": 6,
   "id": "ae471cc7",
   "metadata": {},
   "outputs": [
    {
     "name": "stdout",
     "output_type": "stream",
     "text": [
      "hello, World\n",
      "hello\n"
     ]
    }
   ],
   "source": [
    "#나쁜 예\n",
    "print ('hello, World')\n",
    "#좋은 예\n",
    "print(\"hello\")"
   ]
  },
  {
   "cell_type": "markdown",
   "id": "0e1b4553",
   "metadata": {},
   "source": [
    "## 7. 괄호 앞뒤에는 공백을 넣지 않습니다"
   ]
  },
  {
   "cell_type": "code",
   "execution_count": null,
   "id": "7e2e0226",
   "metadata": {},
   "outputs": [],
   "source": [
    "# 좋은 예\n",
    "def model(val1, val2, val3):\n",
    "    f = [1, 2, 3]\n",
    "    \n",
    "# 나쁜 예\n",
    "def model( val1 , val2 , val3 ):\n",
    "    f = [ 1 , 2 , 3 ]"
   ]
  },
  {
   "cell_type": "markdown",
   "id": "086ba493",
   "metadata": {},
   "source": [
    "## 8. 코드행 끝의 주석 앞에는 공백 2칸\n",
    "- 공백이 하나 또는 아예 없는 경우 주석과 코드를 구분하기 어려움\n"
   ]
  },
  {
   "cell_type": "code",
   "execution_count": null,
   "id": "11223d0c",
   "metadata": {},
   "outputs": [],
   "source": [
    "# 좋은 예\n",
    "import random\n",
    "\n",
    "random.randint(1, 10)  #random 한 숫자를 뽑습니다.\n",
    "\n",
    " #나쁜 예\n",
    "import random\n",
    "\n",
    "random.randint(1, 10)#random 한 숫자를 뽑습니다."
   ]
  },
  {
   "cell_type": "markdown",
   "id": "60a45783",
   "metadata": {},
   "source": [
    "## 9. 모듈 불러오기 컨벤션"
   ]
  },
  {
   "cell_type": "code",
   "execution_count": null,
   "id": "0a4496b0",
   "metadata": {},
   "outputs": [],
   "source": [
    "# 앞글자 대문자 사용\n",
    "# 좋은 예\n",
    "class My_Calc():\n",
    "    \n",
    "# 나쁜 예\n",
    "class my_calc():"
   ]
  }
 ],
 "metadata": {
  "kernelspec": {
   "display_name": "Python 3 (ipykernel)",
   "language": "python",
   "name": "python3"
  },
  "language_info": {
   "codemirror_mode": {
    "name": "ipython",
    "version": 3
   },
   "file_extension": ".py",
   "mimetype": "text/x-python",
   "name": "python",
   "nbconvert_exporter": "python",
   "pygments_lexer": "ipython3",
   "version": "3.11.4"
  }
 },
 "nbformat": 4,
 "nbformat_minor": 5
}
