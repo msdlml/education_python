{
 "cells": [
  {
   "cell_type": "markdown",
   "metadata": {},
   "source": [
    "# 클래스(class)\n",
    "- 클래스 주요 개념\n",
    "- 클래스 기본\n",
    "- 생성자 함수\n",
    "- self\n",
    "- 클래스 변수\n",
    "- 상속\n",
    "- 오버라이딩\n",
    "- is-a 와 has-a"
   ]
  },
  {
   "cell_type": "markdown",
   "metadata": {},
   "source": [
    "## 1. class 주요 개념\n",
    "- 함수의 상위 개념\n",
    "- 변수와 함수를 묶어 놓은 코드\n",
    "- 주요 용어\n",
    "    - 객체 지향, 객체(object), 속성(attribute), 메서드(method), 인스턴스(instance)\n",
    "    - 카멜케이스(CamleCase)"
   ]
  },
  {
   "cell_type": "markdown",
   "metadata": {},
   "source": [
    "## 2.클래스 기본"
   ]
  },
  {
   "cell_type": "code",
   "execution_count": 13,
   "metadata": {},
   "outputs": [
    {
     "name": "stdout",
     "output_type": "stream",
     "text": [
      "안녕하세요! 제 이름은 codelion입니다. 나이는 5살 입니다.\n"
     ]
    }
   ],
   "source": [
    "# 클래스 선언\n",
    "class Person:\n",
    "    #attribute\n",
    "    name = \"codelion\"\n",
    "    age = 5\n",
    "\n",
    "    # method\n",
    "    def introduce(self):\n",
    "        print(f'안녕하세요! 제 이름은 {self.name}입니다. 나이는 {self.age}살 입니다.')\n",
    "\n",
    "person = Person() # Person 클래스의 인스턴스(instance)를 생성\n",
    "person.introduce()"
   ]
  },
  {
   "cell_type": "code",
   "execution_count": 8,
   "metadata": {},
   "outputs": [
    {
     "name": "stdout",
     "output_type": "stream",
     "text": [
      "안녕하세요! 제 이름은 홍박사입니다. 나이는 88살 입니다.\n"
     ]
    },
    {
     "data": {
      "text/plain": [
       "True"
      ]
     },
     "execution_count": 8,
     "metadata": {},
     "output_type": "execute_result"
    }
   ],
   "source": [
    "hong = Person()\n",
    "hong.name = \"홍박사\"\n",
    "hong.age = 88\n",
    "hong.introduce()\n",
    "\n",
    "isinstance(hong,Person) ##클래스의 자식여부 확인가능"
   ]
  },
  {
   "cell_type": "markdown",
   "metadata": {},
   "source": [
    "## 3. 생성자함수"
   ]
  },
  {
   "cell_type": "code",
   "execution_count": 10,
   "metadata": {},
   "outputs": [
    {
     "name": "stdout",
     "output_type": "stream",
     "text": [
      "안녕하세요! 제 이름은 김민성입니다. 나이는 25살 입니다.\n"
     ]
    }
   ],
   "source": [
    "class Person:\n",
    "    def __init__(self,name,age):\n",
    "        self.name = name\n",
    "        self.age = age\n",
    "    def introduce(self):\n",
    "        print(f'안녕하세요! 제 이름은 {self.name}입니다. 나이는 {self.age}살 입니다.')\n",
    "\n",
    "person1 = Person(\"김민성\", 25)\n",
    "person1.introduce()"
   ]
  },
  {
   "cell_type": "code",
   "execution_count": 12,
   "metadata": {},
   "outputs": [
    {
     "name": "stdout",
     "output_type": "stream",
     "text": [
      "김민성\n",
      "25\n"
     ]
    }
   ],
   "source": [
    "# 속성 확인\n",
    "print(person1.name)\n",
    "print(person1.age)"
   ]
  },
  {
   "cell_type": "code",
   "execution_count": 16,
   "metadata": {},
   "outputs": [
    {
     "name": "stdout",
     "output_type": "stream",
     "text": [
      "PYTHON\n"
     ]
    }
   ],
   "source": [
    "text = \"python\"\n",
    "print(text.upper()) "
   ]
  },
  {
   "cell_type": "markdown",
   "metadata": {},
   "source": [
    "## 4. 클래스 변수"
   ]
  },
  {
   "cell_type": "markdown",
   "metadata": {},
   "source": [
    "### 노트북을 클래스 구현"
   ]
  },
  {
   "cell_type": "code",
   "execution_count": 23,
   "metadata": {},
   "outputs": [
    {
     "name": "stdout",
     "output_type": "stream",
     "text": [
      "os is windows\n",
      "cpu is i7\n",
      "ram is 16GB\n",
      "ssd is 1TB\n",
      "os is windows\n",
      "cpu is amd\n",
      "ram is 32gb\n",
      "ssd is 2tb\n"
     ]
    }
   ],
   "source": [
    "class NoteBook:\n",
    "    def __init__(self, os, cpu, ram, ssd):\n",
    "        self.__os = os\n",
    "        self.cpu = cpu\n",
    "        self.ram = ram\n",
    "        self.ssd = ssd\n",
    "    def show_nb_info(self):\n",
    "        print(f'os is {self.__os}') # __가 붙으면 private attribute (설정한 값 변경 불가)\n",
    "        print(f'cpu is {self.cpu}') # 없으면 public attribute (설정한 값 변경 가능)\n",
    "        print(f'ram is {self.ram}')\n",
    "        print(f'ssd is {self.ssd}')\n",
    "    def upgrade_os(self, upgrade):\n",
    "        print(f'수리기사님이 {self.__os}을 {upgrade} 로 업그레이드 했습니다')\n",
    "        self.__os = upgrade\n",
    "\n",
    "nb1 = NoteBook('windows', 'i7','16GB','1TB')\n",
    "nb1.show_nb_info()\n",
    "\n",
    "nb1.os = \"mac\"\n",
    "nb1.cpu = \"amd\"\n",
    "nb1.ram = \"32gb\"\n",
    "nb1.ssd = \"2tb\"\n",
    "\n",
    "nb1.show_nb_info()"
   ]
  },
  {
   "cell_type": "code",
   "execution_count": 24,
   "metadata": {},
   "outputs": [
    {
     "name": "stdout",
     "output_type": "stream",
     "text": [
      "수리기사님이 windows을 mac 로 업그레이드 했습니다\n"
     ]
    }
   ],
   "source": [
    "nb1.upgrade_os(\"mac\")"
   ]
  },
  {
   "cell_type": "code",
   "execution_count": 26,
   "metadata": {},
   "outputs": [
    {
     "name": "stdout",
     "output_type": "stream",
     "text": [
      "사자 (포유류)가 크어어아아앙어ㅓ어아 소리를 냅니다.\n"
     ]
    }
   ],
   "source": [
    "class Animal():\n",
    "    def __init__(self,name,species):\n",
    "        self.name = name\n",
    "        self.species = species\n",
    "        \n",
    "    def Sound(self, sound):\n",
    "        print(f'{self.name} ({self.species})가 {sound} 소리를 냅니다.')\n",
    "\n",
    "lion = Animal(\"사자\",\"포유류\")\n",
    "\n",
    "lion.Sound(\"크어어아아앙어ㅓ어아\")\n",
    "        "
   ]
  },
  {
   "cell_type": "markdown",
   "metadata": {},
   "source": [
    "## 5. self? "
   ]
  },
  {
   "cell_type": "code",
   "execution_count": 41,
   "metadata": {},
   "outputs": [],
   "source": [
    "class Person:\n",
    "    def __init__(self, name):\n",
    "        self.name = name\n",
    "    \n",
    "    def say_hello(self):\n",
    "        print(f\"hello, my name is {self.name}\")"
   ]
  },
  {
   "cell_type": "code",
   "execution_count": 42,
   "metadata": {},
   "outputs": [
    {
     "name": "stdout",
     "output_type": "stream",
     "text": [
      "hello, my name is codelion\n"
     ]
    }
   ],
   "source": [
    "person1 = Person('codelion')\n",
    "person1.say_hello()"
   ]
  },
  {
   "cell_type": "code",
   "execution_count": null,
   "metadata": {},
   "outputs": [],
   "source": [
    "person1.name"
   ]
  },
  {
   "cell_type": "code",
   "execution_count": null,
   "metadata": {},
   "outputs": [],
   "source": [
    "# 전역변수, 지역변수\n",
    "\n",
    "name = \"전역변수입니다\"\n",
    "\n",
    "class Person:\n",
    "    def __init__(self, name):\n",
    "        self.name = name\n",
    "    \n",
    "    def say_hello(self):\n",
    "        print(f'hello, my name is {self.name}')\n",
    "\n",
    "# Person 클래스의 인스턴스 생성\n",
    "person2 = Person('클래스 내부 변수입니다')\n",
    "# say_hello 메서드 호출\n",
    "person2.say_hello()"
   ]
  },
  {
   "cell_type": "code",
   "execution_count": null,
   "metadata": {},
   "outputs": [],
   "source": [
    "person2.name"
   ]
  },
  {
   "cell_type": "code",
   "execution_count": 9,
   "metadata": {},
   "outputs": [
    {
     "name": "stdout",
     "output_type": "stream",
     "text": [
      "뚜왕은/는 코드라이언에서 교육을 받아 데이터 수집을 할 수 있습니다\n",
      "뚜왕가/이 코드라이언에서 교육 받고 있습니다. 조금만 더 기다려주세요!\n",
      "뚜왕가/이 파이썬기술을 익혔습니다.\n",
      "뚜왕가/이 자바기술을 익혔습니다.\n",
      "파이썬을 할 줄 압니다. 코드라이언에서 배웠습니다.\n",
      "자바을 할 줄 압니다. 코드라이언에서 배웠습니다.\n",
      "포트폴리오에 계산기를 추가 했습니다.\n",
      "포트폴리오에 로또 번호 뽑기를 추가 했습니다.\n",
      "저의 포트폴리오에 계산기가 있습니다. \n",
      "저의 포트폴리오에 로또 번호 뽑기가 있습니다. \n"
     ]
    }
   ],
   "source": [
    "class DataScientist:\n",
    "\n",
    "    def __init__(self, name, edu):\n",
    "        self.name = name\n",
    "        self.edu = edu\n",
    "        self.__skills = []\n",
    "        self.__projects = []\n",
    "\n",
    "    # 데이터 수집    \n",
    "    def data_collection(self):\n",
    "        print(f'{self.name}은/는 {self.edu}에서 교육을 받아 데이터 수집을 할 수 있습니다')\n",
    "\n",
    "    # 데이터 분석\n",
    "    def data_analysis(self):\n",
    "        if self.__skills == []:\n",
    "            print(f'{self.name}가/이 {self.edu}에서 교육 받고 있습니다. 조금만 더 기다려주세요!')\n",
    "\n",
    "    # 기술 추가\n",
    "    def add_skill(self, skill):\n",
    "        if skill not in self.__skills:\n",
    "            self.__skills.append(skill)\n",
    "            print(f'{self.name}가/이 {skill}기술을 익혔습니다.')\n",
    "\n",
    "    # 보유 기술 정보 보여주기\n",
    "    def show_skills(self):\n",
    "        for skill in self.__skills:\n",
    "            print(f'{skill}을 할 줄 압니다. {self.edu}에서 배웠습니다.')\n",
    "    \n",
    "    #프로젝트 추가\n",
    "    def add_project(self, project):\n",
    "        if project not in self.__projects:\n",
    "            self.__projects.append(project)\n",
    "            print(f'포트폴리오에 {project}를 추가 했습니다.')\n",
    "\n",
    "    def show_project(self):\n",
    "        if self.__projects != []:\n",
    "            for project in self.__projects:\n",
    "                print(f'저의 포트폴리오에 {project}가 있습니다. ')        \n",
    "\n",
    "ms = DataScientist('뚜왕','코드라이언')\n",
    "ms.data_collection()\n",
    "ms.data_analysis()\n",
    "ms.add_skill('파이썬')\n",
    "ms.add_skill('자바')\n",
    "ms.show_skills()\n",
    "ms.add_project('계산기')\n",
    "ms.add_project('로또 번호 뽑기')\n",
    "ms.show_project()"
   ]
  },
  {
   "cell_type": "markdown",
   "metadata": {},
   "source": [
    "## 6. 상속 (inheritance)\n",
    "- 기존에 있는 클래스를 기반으로 내가 원하는 클래스를 작성\n",
    "- 부모클래스, 자식클래스"
   ]
  },
  {
   "cell_type": "code",
   "execution_count": 17,
   "metadata": {},
   "outputs": [],
   "source": [
    "class Parent:\n",
    "    def __init__(self):\n",
    "        self.parent_value = '부모님의 사랑'\n",
    "        print('부모클래스의 생성자 함수가 실행됐습니다')\n",
    "\n",
    "    def parent_give_love(self):\n",
    "        print('부모님은 자식에게 응원 메시지를 보냅니다')\n",
    "\n",
    "class Child(Parent):\n",
    "    def __init__(self):\n",
    "        super().__init__() # 부모클래스가 가진 속성과 메서드를 자식클래스가 사용할 수 있도록 하는 코드\n",
    "        print('자식클래스의 생성자 함수가 실행됐습니다. 부모님이 물려주신 변수나 메서드를 활용할 수 있습니다')\n",
    "    \n",
    "    def child_take_love(self):\n",
    "        print(f'자식이 {self.parent_value}을 받았습니다')\n",
    "        "
   ]
  },
  {
   "cell_type": "code",
   "execution_count": 22,
   "metadata": {},
   "outputs": [
    {
     "name": "stdout",
     "output_type": "stream",
     "text": [
      "부모클래스의 생성자 함수가 실행됐습니다\n",
      "부모님의 사랑\n",
      "부모님은 자식에게 응원 메시지를 보냅니다\n",
      "자식이 부모님의 사랑을 받았습니다\n"
     ]
    }
   ],
   "source": [
    "child = Child()\n",
    "parent = Parent()\n",
    "print(parent.parent_value)\n",
    "parent.parent_give_love()\n",
    "child.parent_value\n",
    "child.child_take_love()"
   ]
  },
  {
   "cell_type": "markdown",
   "metadata": {},
   "source": [
    "## 7. 오버라이딩(overriding)"
   ]
  },
  {
   "cell_type": "code",
   "execution_count": 26,
   "metadata": {},
   "outputs": [],
   "source": [
    "class Myadd(int):\n",
    "    def __init__(self, value):\n",
    "        super().__init__()\n",
    "        self.value = value\n",
    "    \n",
    "    # int 클래스가 가진 __add__ 메서드에 오버라이딩\n",
    "    def __add__(self, other):\n",
    "        \n",
    "        if isinstance(other, Myadd):\n",
    "            return Myadd(self.value - other)\n",
    "        else:\n",
    "            raise TypeError(\"Myadd로 만든 데이터만 사용해주세요\")"
   ]
  },
  {
   "cell_type": "code",
   "execution_count": 31,
   "metadata": {},
   "outputs": [
    {
     "name": "stdout",
     "output_type": "stream",
     "text": [
      "-5\n",
      "5\n",
      "0\n"
     ]
    },
    {
     "ename": "TypeError",
     "evalue": "Myadd로 만든 데이터만 사용해주세요",
     "output_type": "error",
     "traceback": [
      "\u001b[1;31m---------------------------------------------------------------------------\u001b[0m",
      "\u001b[1;31mTypeError\u001b[0m                                 Traceback (most recent call last)",
      "\u001b[1;32mc:\\Users\\user\\Desktop\\my_ws\\edu\\09_class.ipynb Cell 22\u001b[0m line \u001b[0;36m8\n\u001b[0;32m      <a href='vscode-notebook-cell:/c%3A/Users/user/Desktop/my_ws/edu/09_class.ipynb#X33sZmlsZQ%3D%3D?line=5'>6</a>\u001b[0m \u001b[39mprint\u001b[39m(Myadd(\u001b[39m10\u001b[39m) \u001b[39m+\u001b[39m Myadd(\u001b[39m5\u001b[39m)) \u001b[39m#Myadd 클래스의 오버라이딩 한 더하기 연산 사용\u001b[39;00m\n\u001b[0;32m      <a href='vscode-notebook-cell:/c%3A/Users/user/Desktop/my_ws/edu/09_class.ipynb#X33sZmlsZQ%3D%3D?line=6'>7</a>\u001b[0m \u001b[39mprint\u001b[39m(Myadd(\u001b[39m5\u001b[39m) \u001b[39m-\u001b[39m Myadd(\u001b[39m5\u001b[39m)) \u001b[39m#상속받은 int클래스의 빼기 연산 사용\u001b[39;00m\n\u001b[1;32m----> <a href='vscode-notebook-cell:/c%3A/Users/user/Desktop/my_ws/edu/09_class.ipynb#X33sZmlsZQ%3D%3D?line=7'>8</a>\u001b[0m \u001b[39mprint\u001b[39m(Myadd(\u001b[39m10\u001b[39;49m) \u001b[39m+\u001b[39;49m \u001b[39m5\u001b[39;49m)\n",
      "\u001b[1;32mc:\\Users\\user\\Desktop\\my_ws\\edu\\09_class.ipynb Cell 22\u001b[0m line \u001b[0;36m1\n\u001b[0;32m      <a href='vscode-notebook-cell:/c%3A/Users/user/Desktop/my_ws/edu/09_class.ipynb#X33sZmlsZQ%3D%3D?line=8'>9</a>\u001b[0m     \u001b[39mreturn\u001b[39;00m Myadd(\u001b[39mself\u001b[39m\u001b[39m.\u001b[39mvalue \u001b[39m-\u001b[39m other)\n\u001b[0;32m     <a href='vscode-notebook-cell:/c%3A/Users/user/Desktop/my_ws/edu/09_class.ipynb#X33sZmlsZQ%3D%3D?line=9'>10</a>\u001b[0m \u001b[39melse\u001b[39;00m:\n\u001b[1;32m---> <a href='vscode-notebook-cell:/c%3A/Users/user/Desktop/my_ws/edu/09_class.ipynb#X33sZmlsZQ%3D%3D?line=10'>11</a>\u001b[0m     \u001b[39mraise\u001b[39;00m \u001b[39mTypeError\u001b[39;00m(\u001b[39m\"\u001b[39m\u001b[39mMyadd로 만든 데이터만 사용해주세요\u001b[39m\u001b[39m\"\u001b[39m)\n",
      "\u001b[1;31mTypeError\u001b[0m: Myadd로 만든 데이터만 사용해주세요"
     ]
    }
   ],
   "source": [
    "# myadd 객체생성\n",
    "num1 = Myadd(5)\n",
    "num2 = Myadd(10)\n",
    "# 오버라이딩한 __add__메서드 호출\n",
    "print(num1.__add__(num2)) #Myadd 클래스의 오버라이딩 한 더하기 연산 사용\n",
    "print(Myadd(10) + Myadd(5)) #Myadd 클래스의 오버라이딩 한 더하기 연산 사용\n",
    "print(Myadd(5) - Myadd(5)) #상속받은 int클래스의 빼기 연산 사용\n",
    "print(Myadd(10) - 5) #상속받은 int클래스의 뺴기 연산사용"
   ]
  },
  {
   "cell_type": "markdown",
   "metadata": {},
   "source": [
    "## 8. is-a has-a"
   ]
  },
  {
   "cell_type": "markdown",
   "metadata": {},
   "source": [
    "### 8-1. is-a(상속관계)\n",
    "- 하위 클래스가 상위 클래스의 모든 속성과 메서드를 상속 받는 방식\n"
   ]
  },
  {
   "cell_type": "code",
   "execution_count": 37,
   "metadata": {},
   "outputs": [],
   "source": [
    "class Animal:\n",
    "    def __init__(self,name):\n",
    "        self.name = name\n",
    "    def speak(self):\n",
    "        pass\n",
    "\n",
    "class Dog(Animal):\n",
    "    def speak(self):\n",
    "        return f'{self.name}가 왈왈 짖습니다.'\n",
    "    \n",
    "class Cat(Animal):\n",
    "    def speak(self):\n",
    "        return f'{self.name}가 야옹야옹 웁니다.'\n",
    "        "
   ]
  },
  {
   "cell_type": "code",
   "execution_count": 38,
   "metadata": {},
   "outputs": [
    {
     "data": {
      "text/plain": [
       "'야옹이가 야옹야옹 웁니다.'"
      ]
     },
     "execution_count": 38,
     "metadata": {},
     "output_type": "execute_result"
    }
   ],
   "source": [
    "dog = Dog('멍멍이')\n",
    "cat = Cat('야옹이')\n",
    "\n",
    "dog.speak()\n",
    "cat.speak()\n"
   ]
  },
  {
   "cell_type": "markdown",
   "metadata": {},
   "source": [
    "### 8-2. has a (포함 관계)\n",
    "- 한 클래스가 다른 클래스의 인스턴스를 포함하는 관계\n",
    "    - 차는 엔진을 가지고 있다.\n",
    "    - 우리는 노트북을 가지고 있다."
   ]
  },
  {
   "cell_type": "code",
   "execution_count": 40,
   "metadata": {},
   "outputs": [],
   "source": [
    "class Car:\n",
    "    def __init__(self):\n",
    "        self.engine = engine\n",
    "    \n",
    "    def drive(self):\n",
    "        self.engine.start()\n",
    "\n",
    "class Engine:\n",
    "    def start(self):\n",
    "        pass"
   ]
  },
  {
   "cell_type": "code",
   "execution_count": null,
   "metadata": {},
   "outputs": [],
   "source": [
    "class Person:\n",
    "    def __init__(self,name):\n",
    "        self.name = name\n",
    "        self.notebook = None\n",
    "\n",
    "    def ac_notebook(self, notebook):\n",
    "        self.notebook = notebook\n",
    "        print(f'{self.name}이/가 {self.notebook.brand}을 얻었습니다')\n",
    "\n",
    "class Notebook:\n",
    "    def __init__(self,brand):\n",
    "        self.brand = brand\n",
    "    \n"
   ]
  }
 ],
 "metadata": {
  "kernelspec": {
   "display_name": "test_venv",
   "language": "python",
   "name": "python3"
  },
  "language_info": {
   "codemirror_mode": {
    "name": "ipython",
    "version": 3
   },
   "file_extension": ".py",
   "mimetype": "text/x-python",
   "name": "python",
   "nbconvert_exporter": "python",
   "pygments_lexer": "ipython3",
   "version": "3.8.18"
  },
  "orig_nbformat": 4
 },
 "nbformat": 4,
 "nbformat_minor": 2
}
