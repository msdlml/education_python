{
 "cells": [
  {
   "cell_type": "markdown",
   "metadata": {
    "id": "87-wQyig_cTs"
   },
   "source": [
    "# 1. google colab\n",
    "- ctrl + m, m\n",
    "- 구글 코랩은 클라우드 기반 무료 주피터 환경을 제공\n",
    "- 웹 브라우저에서 파이썬 코드를 작성하고 실행할 수 있습니다.\n",
    "- numpy, pandas, matplotlib, tensorflow, pytorch 등 주요 라이브러리가 사전에 설치되어 있음\n",
    "- 구글 드라이브 연동\n",
    "- GPU활용 가능"
   ]
  },
  {
   "cell_type": "code",
   "execution_count": 1,
   "metadata": {
    "colab": {
     "base_uri": "https://localhost:8080/"
    },
    "executionInfo": {
     "elapsed": 6,
     "status": "ok",
     "timestamp": 1695186752065,
     "user": {
      "displayName": "김민성",
      "userId": "15161532026443402673"
     },
     "user_tz": -540
    },
    "id": "GXd-XvkOAKfC",
    "outputId": "8da855b1-f571-4546-87be-174e36cdb693"
   },
   "outputs": [
    {
     "name": "stdout",
     "output_type": "stream",
     "text": [
      "PRETTY_NAME=\"Ubuntu 22.04.2 LTS\"\n",
      "NAME=\"Ubuntu\"\n",
      "VERSION_ID=\"22.04\"\n",
      "VERSION=\"22.04.2 LTS (Jammy Jellyfish)\"\n",
      "VERSION_CODENAME=jammy\n",
      "ID=ubuntu\n",
      "ID_LIKE=debian\n",
      "HOME_URL=\"https://www.ubuntu.com/\"\n",
      "SUPPORT_URL=\"https://help.ubuntu.com/\"\n",
      "BUG_REPORT_URL=\"https://bugs.launchpad.net/ubuntu/\"\n",
      "PRIVACY_POLICY_URL=\"https://www.ubuntu.com/legal/terms-and-policies/privacy-policy\"\n",
      "UBUNTU_CODENAME=jammy\n"
     ]
    }
   ],
   "source": [
    "# os\n",
    "!cat /etc/os-release"
   ]
  },
  {
   "cell_type": "code",
   "execution_count": 2,
   "metadata": {
    "colab": {
     "base_uri": "https://localhost:8080/"
    },
    "executionInfo": {
     "elapsed": 4,
     "status": "ok",
     "timestamp": 1695186848262,
     "user": {
      "displayName": "김민성",
      "userId": "15161532026443402673"
     },
     "user_tz": -540
    },
    "id": "RkCv7796AQ6i",
    "outputId": "6a6f5847-3e94-4b54-9b53-77e0c78c2744"
   },
   "outputs": [
    {
     "name": "stdout",
     "output_type": "stream",
     "text": [
      "processor\t: 0\n",
      "vendor_id\t: AuthenticAMD\n",
      "cpu family\t: 23\n",
      "model\t\t: 49\n",
      "model name\t: AMD EPYC 7B12\n",
      "stepping\t: 0\n",
      "microcode\t: 0xffffffff\n",
      "cpu MHz\t\t: 2249.998\n",
      "cache size\t: 512 KB\n",
      "physical id\t: 0\n",
      "siblings\t: 2\n",
      "core id\t\t: 0\n",
      "cpu cores\t: 1\n",
      "apicid\t\t: 0\n",
      "initial apicid\t: 0\n",
      "fpu\t\t: yes\n",
      "fpu_exception\t: yes\n",
      "cpuid level\t: 13\n",
      "wp\t\t: yes\n",
      "flags\t\t: fpu vme de pse tsc msr pae mce cx8 apic sep mtrr pge mca cmov pat pse36 clflush mmx fxsr sse sse2 ht syscall nx mmxext fxsr_opt pdpe1gb rdtscp lm constant_tsc rep_good nopl nonstop_tsc cpuid extd_apicid tsc_known_freq pni pclmulqdq ssse3 fma cx16 sse4_1 sse4_2 movbe popcnt aes xsave avx f16c rdrand hypervisor lahf_lm cmp_legacy cr8_legacy abm sse4a misalignsse 3dnowprefetch osvw topoext ssbd ibrs ibpb stibp vmmcall fsgsbase tsc_adjust bmi1 avx2 smep bmi2 rdseed adx smap clflushopt clwb sha_ni xsaveopt xsavec xgetbv1 clzero xsaveerptr arat npt nrip_save umip rdpid\n",
      "bugs\t\t: sysret_ss_attrs null_seg spectre_v1 spectre_v2 spec_store_bypass retbleed smt_rsb\n",
      "bogomips\t: 4499.99\n",
      "TLB size\t: 3072 4K pages\n",
      "clflush size\t: 64\n",
      "cache_alignment\t: 64\n",
      "address sizes\t: 48 bits physical, 48 bits virtual\n",
      "power management:\n",
      "\n",
      "processor\t: 1\n",
      "vendor_id\t: AuthenticAMD\n",
      "cpu family\t: 23\n",
      "model\t\t: 49\n",
      "model name\t: AMD EPYC 7B12\n",
      "stepping\t: 0\n",
      "microcode\t: 0xffffffff\n",
      "cpu MHz\t\t: 2249.998\n",
      "cache size\t: 512 KB\n",
      "physical id\t: 0\n",
      "siblings\t: 2\n",
      "core id\t\t: 0\n",
      "cpu cores\t: 1\n",
      "apicid\t\t: 1\n",
      "initial apicid\t: 1\n",
      "fpu\t\t: yes\n",
      "fpu_exception\t: yes\n",
      "cpuid level\t: 13\n",
      "wp\t\t: yes\n",
      "flags\t\t: fpu vme de pse tsc msr pae mce cx8 apic sep mtrr pge mca cmov pat pse36 clflush mmx fxsr sse sse2 ht syscall nx mmxext fxsr_opt pdpe1gb rdtscp lm constant_tsc rep_good nopl nonstop_tsc cpuid extd_apicid tsc_known_freq pni pclmulqdq ssse3 fma cx16 sse4_1 sse4_2 movbe popcnt aes xsave avx f16c rdrand hypervisor lahf_lm cmp_legacy cr8_legacy abm sse4a misalignsse 3dnowprefetch osvw topoext ssbd ibrs ibpb stibp vmmcall fsgsbase tsc_adjust bmi1 avx2 smep bmi2 rdseed adx smap clflushopt clwb sha_ni xsaveopt xsavec xgetbv1 clzero xsaveerptr arat npt nrip_save umip rdpid\n",
      "bugs\t\t: sysret_ss_attrs null_seg spectre_v1 spectre_v2 spec_store_bypass retbleed smt_rsb\n",
      "bogomips\t: 4499.99\n",
      "TLB size\t: 3072 4K pages\n",
      "clflush size\t: 64\n",
      "cache_alignment\t: 64\n",
      "address sizes\t: 48 bits physical, 48 bits virtual\n",
      "power management:\n",
      "\n"
     ]
    }
   ],
   "source": [
    "# cpu\n",
    "!cat /proc/cpuinfo"
   ]
  },
  {
   "cell_type": "code",
   "execution_count": 3,
   "metadata": {
    "colab": {
     "base_uri": "https://localhost:8080/"
    },
    "executionInfo": {
     "elapsed": 6,
     "status": "ok",
     "timestamp": 1695186925446,
     "user": {
      "displayName": "김민성",
      "userId": "15161532026443402673"
     },
     "user_tz": -540
    },
    "id": "aF3Z58mJAoZ8",
    "outputId": "88a1ca3c-663d-4855-aed3-36b69744d44c"
   },
   "outputs": [
    {
     "name": "stdout",
     "output_type": "stream",
     "text": [
      "MemTotal:       13294252 kB\n",
      "MemFree:         9553824 kB\n",
      "MemAvailable:   12362876 kB\n",
      "Buffers:           62716 kB\n",
      "Cached:          2941484 kB\n",
      "SwapCached:            0 kB\n",
      "Active:           846124 kB\n",
      "Inactive:        2668016 kB\n",
      "Active(anon):       2084 kB\n",
      "Inactive(anon):   511704 kB\n",
      "Active(file):     844040 kB\n",
      "Inactive(file):  2156312 kB\n",
      "Unevictable:           0 kB\n",
      "Mlocked:               0 kB\n",
      "SwapTotal:             0 kB\n",
      "SwapFree:              0 kB\n",
      "Dirty:               528 kB\n",
      "Writeback:             0 kB\n",
      "AnonPages:        509812 kB\n",
      "Mapped:           287816 kB\n",
      "Shmem:              3848 kB\n",
      "KReclaimable:      99308 kB\n",
      "Slab:             134940 kB\n",
      "SReclaimable:      99308 kB\n",
      "SUnreclaim:        35632 kB\n",
      "KernelStack:        4176 kB\n",
      "PageTables:         9920 kB\n",
      "NFS_Unstable:          0 kB\n",
      "Bounce:                0 kB\n",
      "WritebackTmp:          0 kB\n",
      "CommitLimit:     6647124 kB\n",
      "Committed_AS:    1980560 kB\n",
      "VmallocTotal:   34359738367 kB\n",
      "VmallocUsed:        9124 kB\n",
      "VmallocChunk:          0 kB\n",
      "Percpu:             1288 kB\n",
      "HardwareCorrupted:     0 kB\n",
      "AnonHugePages:         0 kB\n",
      "ShmemHugePages:        0 kB\n",
      "ShmemPmdMapped:        0 kB\n",
      "FileHugePages:         0 kB\n",
      "FilePmdMapped:         0 kB\n",
      "CmaTotal:              0 kB\n",
      "CmaFree:               0 kB\n",
      "HugePages_Total:       0\n",
      "HugePages_Free:        0\n",
      "HugePages_Rsvd:        0\n",
      "HugePages_Surp:        0\n",
      "Hugepagesize:       2048 kB\n",
      "Hugetlb:               0 kB\n",
      "DirectMap4k:       82744 kB\n",
      "DirectMap2M:     4108288 kB\n",
      "DirectMap1G:    11534336 kB\n"
     ]
    }
   ],
   "source": [
    "# ram 정보 확인\n",
    "!cat /proc/meminfo"
   ]
  },
  {
   "cell_type": "code",
   "execution_count": 4,
   "metadata": {
    "colab": {
     "base_uri": "https://localhost:8080/"
    },
    "executionInfo": {
     "elapsed": 7,
     "status": "ok",
     "timestamp": 1695187010747,
     "user": {
      "displayName": "김민성",
      "userId": "15161532026443402673"
     },
     "user_tz": -540
    },
    "id": "tnZ4faF_A7Na",
    "outputId": "f2844cf4-3a4a-4642-955c-0804cd415057"
   },
   "outputs": [
    {
     "name": "stdout",
     "output_type": "stream",
     "text": [
      "Filesystem      Size  Used Avail Use% Mounted on\n",
      "overlay         108G   27G   82G  25% /\n",
      "tmpfs            64M     0   64M   0% /dev\n",
      "shm             5.8G     0  5.8G   0% /dev/shm\n",
      "/dev/root       2.0G  1.1G  887M  55% /usr/sbin/docker-init\n",
      "tmpfs           6.4G  2.7M  6.4G   1% /var/colab\n",
      "/dev/sda1        44G   28G   16G  64% /etc/hosts\n",
      "tmpfs           6.4G     0  6.4G   0% /proc/acpi\n",
      "tmpfs           6.4G     0  6.4G   0% /proc/scsi\n",
      "tmpfs           6.4G     0  6.4G   0% /sys/firmware\n"
     ]
    }
   ],
   "source": [
    "# 가상 디스크 정보확인\n",
    "!df -h"
   ]
  },
  {
   "cell_type": "code",
   "execution_count": 5,
   "metadata": {
    "colab": {
     "base_uri": "https://localhost:8080/"
    },
    "executionInfo": {
     "elapsed": 6,
     "status": "ok",
     "timestamp": 1695187027091,
     "user": {
      "displayName": "김민성",
      "userId": "15161532026443402673"
     },
     "user_tz": -540
    },
    "id": "m6IM7OovBQDr",
    "outputId": "61f1dcef-f319-4969-c5e4-2d6bc392fdd6"
   },
   "outputs": [
    {
     "name": "stdout",
     "output_type": "stream",
     "text": [
      "Python 3.10.12\n"
     ]
    }
   ],
   "source": [
    "# 파이썬 버전 확인\n",
    "!python -V"
   ]
  },
  {
   "cell_type": "markdown",
   "metadata": {
    "id": "DGZnoXG2BUD6"
   },
   "source": [
    "# 코랩의 요금정책\n",
    "- 런타임 제한시간 12시간\n",
    "- 12시간 이상 지속사용을 위해선, 중간에 재연결 필요\n",
    "- 비활동 시간이 90분 이상 지속되면 세션 종료\n"
   ]
  },
  {
   "cell_type": "markdown",
   "metadata": {
    "id": "7l0HyPqNEePM"
   },
   "source": [
    "현재 셀 삭제 컨트롤 + m , d"
   ]
  }
 ],
 "metadata": {
  "colab": {
   "authorship_tag": "ABX9TyMRyMduapVFxnmnLqIANZ3C",
   "provenance": []
  },
  "kernelspec": {
   "display_name": "Python 3 (ipykernel)",
   "language": "python",
   "name": "python3"
  },
  "language_info": {
   "codemirror_mode": {
    "name": "ipython",
    "version": 3
   },
   "file_extension": ".py",
   "mimetype": "text/x-python",
   "name": "python",
   "nbconvert_exporter": "python",
   "pygments_lexer": "ipython3",
   "version": "3.11.4"
  }
 },
 "nbformat": 4,
 "nbformat_minor": 1
}
